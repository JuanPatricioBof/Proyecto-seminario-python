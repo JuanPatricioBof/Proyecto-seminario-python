{
 "cells": [
  {
   "cell_type": "markdown",
   "id": "cfeefaa6",
   "metadata": {},
   "source": [
    "# Procesar encuesta individuos"
   ]
  },
  {
   "cell_type": "markdown",
   "id": "8600f732",
   "metadata": {},
   "source": [
    "#### Genero dataset unico"
   ]
  },
  {
   "cell_type": "code",
   "execution_count": null,
   "id": "83353df4",
   "metadata": {},
   "outputs": [],
   "source": [
    "import sys \n",
    "sys.path.append(\"..\")\n",
    "\n",
    "import importlib\n",
    "import src.dataset.generate_dataset as join\n",
    "importlib.reload(join)\n",
    "\n",
    "join.join_data(\"individual\") # unir los archivos"
   ]
  },
  {
   "cell_type": "markdown",
   "id": "878e12bb",
   "metadata": {},
   "source": [
    "#### Genero la ruta al archivo unico"
   ]
  },
  {
   "cell_type": "code",
   "execution_count": null,
   "id": "86a9ddfa",
   "metadata": {},
   "outputs": [],
   "source": [
    "from src.utils.constants import DATA_OUT_PATH\n",
    "\n",
    "# ruta al archivo unico de individual\n",
    "path_unico = DATA_OUT_PATH / \"usu_individual.csv\" # path al archivo unico"
   ]
  },
  {
   "cell_type": "markdown",
   "id": "d0f6cc12",
   "metadata": {},
   "source": [
    "# Sección A"
   ]
  },
  {
   "cell_type": "markdown",
   "id": "7392abf8",
   "metadata": {},
   "source": [
    "#### Genero nuevas columnas"
   ]
  },
  {
   "cell_type": "code",
   "execution_count": null,
   "id": "17c65926",
   "metadata": {},
   "outputs": [],
   "source": [
    "#ACA LLAMAR UNA A UNA A LAS FUNCIONES QUE AGREGAN NUEVAS COLUMNAS\n",
    "\n",
    "import importlib\n",
    "import src.dataset.generate_dataset as generate\n",
    "importlib.reload(generate)\n",
    "\n",
    "generate.generar_columnas_individual()\n"
   ]
  },
  {
   "cell_type": "markdown",
   "id": "15514dab",
   "metadata": {},
   "source": [
    "#### Genero la ruta al archivo procesado "
   ]
  },
  {
   "cell_type": "code",
   "execution_count": null,
   "id": "d4bde216",
   "metadata": {},
   "outputs": [],
   "source": [
    "from src.utils.constants import DATA_OUT_PATH\n",
    "\n",
    "path_procesado = DATA_OUT_PATH / \"individual_process.csv\" "
   ]
  },
  {
   "cell_type": "markdown",
   "id": "547765a0",
   "metadata": {},
   "source": [
    "#### Imprimo el encabezado y 1ra linea para chequear"
   ]
  },
  {
   "cell_type": "code",
   "execution_count": null,
   "id": "d18539ca",
   "metadata": {},
   "outputs": [],
   "source": [
    "import csv\n",
    "\n",
    "with path_procesado.open('r',encoding='utf-8') as individual_csv:\n",
    "    csv_reader = csv.reader(individual_csv, delimiter=';')\n",
    "    header,data= next(csv_reader), list(csv_reader)\n",
    "    print(header)\n",
    "    print(data[0])"
   ]
  },
  {
   "cell_type": "markdown",
   "id": "102d0baf",
   "metadata": {},
   "source": [
    "# Sección B"
   ]
  },
  {
   "cell_type": "code",
   "execution_count": null,
   "id": "39c573fc",
   "metadata": {},
   "outputs": [
    {
     "name": "stdout",
     "output_type": "stream",
     "text": [
      "Porcentaje de personas con nivel universitario o superior:\n",
      "\n",
      "Gran Mendoza: 24.97%\n",
      "Aglomerado 7: 26.04%\n",
      "Santiago del Estero - La Banda: 21.87%\n",
      "La Rioja: 24.66%\n",
      "Aglomerado 8: 19.27%\n",
      "Aglomerado 5: 24.76%\n",
      "Jujuy - Palpalá: 30.09%\n",
      "Santa Rosa - Toay: 24.22%\n",
      "Formosa: 17.24%\n",
      "Gran San Juan: 20.63%\n",
      "Gran San Luis: 23.68%\n",
      "Gran Tucumán - Tafí Viejo: 22.89%\n",
      "Aglomerado 4: 29.73%\n",
      "Río Cuarto: 27.10%\n",
      "Viedma- Carmen de Patagones: 22.05%\n",
      "Rawson - Trelew: 22.71%\n",
      "Gran Córdoba: 27.90%\n",
      "Aglomerado 2: 34.42%\n",
      "Corrientes: 29.17%\n",
      "Río Gallegos: 24.69%\n",
      "Aglomerado 3: 32.24%\n",
      "Mar del Plata: 25.38%\n",
      "Partidos del GBA: 22.67%\n",
      "Gran Catamarca: 23.31%\n",
      "Aglomerado 9: 20.42%\n",
      "Aglomerado 6: 29.68%\n",
      "Neuquén - Plottier: 26.63%\n",
      "Ushuaia - Río Grande: 23.16%\n",
      "Gran Salta: 27.38%\n",
      "San Nicolás - Villa Constitución: 25.16%\n",
      "Ciudad Autónoma de Buenos Aires: 42.75%\n",
      "Concordia: 18.20%\n",
      "02: Gran La Plata, 03: Bahía Blanca - Cerri, 04: Gran Rosario, 05: Gran Santa Fé, 06: Gran Paraná, 07: Posadas, 08: Gran Resistencia, 09: Comodoro Rivadavia - Rada Tilly, 10: Gran Mendoza, 12: Corrientes, 13: Gran Córdoba, 14: Concordia, 15: Formosa, 17: Neuquén - Plottier, 18: Santiago del Estero - La Banda, 19: Jujuy - Palpalá, 20: Río Gallegos, 22: Gran Catamarca, 23: Gran Salta, 25: La Rioja, 26: Gran San Luis, 27: Gran San Juan, 29: Gran Tucumán - Tafí Viejo, 30: Santa Rosa - Toay, 31: Ushuaia - Río Grande, 32: Ciudad Autónoma de Buenos Aires, 33: Partidos del GBA, 34: Mar del Plata, 36: Río Cuarto, 38: San Nicolás - Villa Constitución, 91: Rawson - Trelew, 93: Viedma- Carmen de Patagones, \n",
      "Procesando archivo...\n"
     ]
    },
    {
     "ename": "KeyError",
     "evalue": "'NIVEL_ED_str'",
     "output_type": "error",
     "traceback": [
      "\u001b[31m---------------------------------------------------------------------------\u001b[39m",
      "\u001b[31mKeyError\u001b[39m                                  Traceback (most recent call last)",
      "\u001b[36mCell\u001b[39m\u001b[36m \u001b[39m\u001b[32mIn[9]\u001b[39m\u001b[32m, line 9\u001b[39m\n\u001b[32m      7\u001b[39m \u001b[38;5;66;03m#llamar a funciones que procesan los datos\u001b[39;00m\n\u001b[32m      8\u001b[39m process_a.informar_porcentaje_universitarios(path_procesado) \u001b[38;5;66;03m# 10 A\u001b[39;00m\n\u001b[32m----> \u001b[39m\u001b[32m9\u001b[39m \u001b[43mprocess_b\u001b[49m\u001b[43m.\u001b[49m\u001b[43mtabla_porcentaje\u001b[49m\u001b[43m(\u001b[49m\u001b[43mpath_procesado\u001b[49m\u001b[43m)\u001b[49m  \u001b[38;5;66;03m# 10 B \u001b[39;00m\n",
      "\u001b[36mFile \u001b[39m\u001b[32mc:\\Users\\User\\code\\notebooks\\..\\src\\dataset\\process_dataset_b.py:51\u001b[39m, in \u001b[36mtabla_porcentaje\u001b[39m\u001b[34m(file_csv_individuos)\u001b[39m\n\u001b[32m     48\u001b[39m             \u001b[38;5;66;03m# sumo los datos\u001b[39;00m\n\u001b[32m     49\u001b[39m             tabla[año][trimestre][aglo][\u001b[33m'\u001b[39m\u001b[33mtotal\u001b[39m\u001b[33m'\u001b[39m] += cantidad\n\u001b[32m---> \u001b[39m\u001b[32m51\u001b[39m             \u001b[38;5;28;01mif\u001b[39;00m (\u001b[43mrow\u001b[49m\u001b[43m[\u001b[49m\u001b[33;43m'\u001b[39;49m\u001b[33;43mNIVEL_ED_str\u001b[39;49m\u001b[33;43m'\u001b[39;49m\u001b[43m]\u001b[49m == \u001b[33m'\u001b[39m\u001b[33mSecundario incompleto\u001b[39m\u001b[33m'\u001b[39m) \u001b[38;5;129;01mand\u001b[39;00m ( \u001b[38;5;28mint\u001b[39m( row[\u001b[33m'\u001b[39m\u001b[33mCH06\u001b[39m\u001b[33m'\u001b[39m] ) > \u001b[32m60\u001b[39m ):\n\u001b[32m     52\u001b[39m                 tabla[año][trimestre][aglo][\u001b[33m'\u001b[39m\u001b[33mcumple\u001b[39m\u001b[33m'\u001b[39m] += cantidad\n\u001b[32m     54\u001b[39m \u001b[38;5;66;03m# calcular porcentaje\u001b[39;00m\n",
      "\u001b[31mKeyError\u001b[39m: 'NIVEL_ED_str'"
     ]
    }
   ],
   "source": [
    "import importlib\n",
    "import src.dataset.process_dataset_a as process_a\n",
    "import src.dataset.process_dataset_b as process_b\n",
    "importlib.reload(process_a)\n",
    "importlib.reload(process_b)\n",
    "\n",
    "#llamar a funciones que procesan los datos\n",
    "process_a.informar_porcentaje_universitarios(path_procesado) #7\n",
    "process_b.tabla_porcentaje(path_procesado)  # 10 B \n"
   ]
  }
 ],
 "metadata": {
  "kernelspec": {
   "display_name": "Python 3",
   "language": "python",
   "name": "python3"
  },
  "language_info": {
   "codemirror_mode": {
    "name": "ipython",
    "version": 3
   },
   "file_extension": ".py",
   "mimetype": "text/x-python",
   "name": "python",
   "nbconvert_exporter": "python",
   "pygments_lexer": "ipython3",
   "version": "3.12.9"
  }
 },
 "nbformat": 4,
 "nbformat_minor": 5
}
