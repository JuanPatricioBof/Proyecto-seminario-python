{
 "cells": [
  {
   "cell_type": "markdown",
   "id": "cfeefaa6",
   "metadata": {},
   "source": [
    "# Procesar encuesta individuos"
   ]
  },
  {
   "cell_type": "markdown",
   "id": "8600f732",
   "metadata": {},
   "source": [
    "#### Genero dataset unico"
   ]
  },
  {
   "cell_type": "code",
   "execution_count": 1,
   "id": "83353df4",
   "metadata": {},
   "outputs": [
    {
     "name": "stdout",
     "output_type": "stream",
     "text": [
      "Header esperado: ['CODUSU', 'ANO4', 'TRIMESTRE', 'NRO_HOGAR', 'REALIZADA', 'REGION', 'MAS_500', 'AGLOMERADO', 'PONDERA', 'IV1', 'IV1_ESP', 'IV2', 'IV3', 'IV3_ESP', 'IV4', 'IV5', 'IV6', 'IV7', 'IV7_ESP', 'IV8', 'IV9', 'IV10', 'IV11', 'IV12_1', 'IV12_2', 'IV12_3', 'II1', 'II2', 'II3', 'II3_1', 'II4_1', 'II4_2', 'II4_3', 'II5', 'II5_1', 'II6', 'II6_1', 'II7', 'II7_ESP', 'II8', 'II8_ESP', 'II9', 'V1', 'V2', 'V21', 'V22', 'V3', 'V4', 'V5', 'V6', 'V7', 'V8', 'V9', 'V10', 'V11', 'V12', 'V13', 'V14', 'V15', 'V16', 'V17', 'V18', 'V19_A', 'V19_B', 'IX_TOT', 'IX_MEN10', 'IX_MAYEQ10', 'ITF', 'DECIFR', 'IDECIFR', 'RDECIFR', 'GDECIFR', 'PDECIFR', 'ADECIFR', 'IPCF', 'DECCFR', 'IDECCFR', 'RDECCFR', 'GDECCFR', 'PDECCFR', 'ADECCFR', 'PONDIH', 'VII1_1', 'VII1_2', 'VII2_1', 'VII2_2', 'VII2_3', 'VII2_4']\n",
      "Header encontrado: ['CODUSU', 'ANO4', 'TRIMESTRE', 'NRO_HOGAR', 'REALIZADA', 'REGION', 'MAS_500', 'AGLOMERADO', 'PONDERA', 'IV1', 'IV1_ESP', 'IV2', 'IV3', 'IV3_ESP', 'IV4', 'IV5', 'IV6', 'IV7', 'IV7_ESP', 'IV8', 'IV9', 'IV10', 'IV11', 'IV12_1', 'IV12_2', 'IV12_3', 'II1', 'II2', 'II3', 'II3_1', 'II4_1', 'II4_2', 'II4_3', 'II5', 'II5_1', 'II6', 'II6_1', 'II7', 'II7_ESP', 'II8', 'II8_ESP', 'II9', 'V1', 'V2', 'V21', 'V22', 'V3', 'V4', 'V5', 'V6', 'V7', 'V8', 'V9', 'V10', 'V11', 'V12', 'V13', 'V14', 'V15', 'V16', 'V17', 'V18', 'V19_A', 'V19_B', 'IX_TOT', 'IX_MEN10', 'IX_MAYEQ10', 'ITF', 'DECIFR', 'IDECIFR', 'RDECIFR', 'GDECIFR', 'PDECIFR', 'ADECIFR', 'IPCF', 'DECCFR', 'IDECCFR', 'RDECCFR', 'GDECCFR', 'PDECCFR', 'ADECCFR', 'PONDIH', 'VII1_1', 'VII1_2', 'VII2_1', 'VII2_2', 'VII2_3', 'VII2_4', '']\n",
      "¡Error! Header inconsistentes en c:\\Users\\juanp\\FACULTAD\\Sem_Python\\Tp3-Integrador\\Trabajo_grupal_Integrador\\code\\notebooks\\..\\files\\data_eph\\usu_hogar_T321.txt.txt. Se omitirá.\n",
      "Header esperado: ['CODUSU', 'ANO4', 'TRIMESTRE', 'NRO_HOGAR', 'COMPONENTE', 'H15', 'REGION', 'MAS_500', 'AGLOMERADO', 'PONDERA', 'CH03', 'CH04', 'CH05', 'CH06', 'CH07', 'CH08', 'CH09', 'CH10', 'CH11', 'CH12', 'CH13', 'CH14', 'CH15', 'CH15_COD', 'CH16', 'CH16_COD', 'NIVEL_ED', 'ESTADO', 'CAT_OCUP', 'CAT_INAC', 'IMPUTA', 'PP02C1', 'PP02C2', 'PP02C3', 'PP02C4', 'PP02C5', 'PP02C6', 'PP02C7', 'PP02C8', 'PP02E', 'PP02H', 'PP02I', 'PP03C', 'PP03D', 'PP3E_TOT', 'PP3F_TOT', 'PP03G', 'PP03H', 'PP03I', 'PP03J', 'INTENSI', 'PP04A', 'PP04B_COD', 'PP04B1', 'PP04B2', 'PP04B3_MES', 'PP04B3_ANO', 'PP04B3_DIA', 'PP04C', 'PP04C99', 'PP04D_COD', 'PP04G', 'PP05B2_MES', 'PP05B2_ANO', 'PP05B2_DIA', 'PP05C_1', 'PP05C_2', 'PP05C_3', 'PP05E', 'PP05F', 'PP05H', 'PP06A', 'PP06C', 'PP06D', 'PP06E', 'PP06H', 'PP07A', 'PP07C', 'PP07D', 'PP07E', 'PP07F1', 'PP07F2', 'PP07F3', 'PP07F4', 'PP07F5', 'PP07G1', 'PP07G2', 'PP07G3', 'PP07G4', 'PP07G_59', 'PP07H', 'PP07I', 'PP07J', 'PP07K', 'PP08D1', 'PP08D4', 'PP08F1', 'PP08F2', 'PP08J1', 'PP08J2', 'PP08J3', 'PP09A', 'PP09A_ESP', 'PP09B', 'PP09C', 'PP09C_ESP', 'PP10A', 'PP10C', 'PP10D', 'PP10E', 'PP11A', 'PP11B_COD', 'PP11B1', 'PP11B2_MES', 'PP11B2_ANO', 'PP11B2_DIA', 'PP11C', 'PP11C99', 'PP11D_COD', 'PP11G_ANO', 'PP11G_MES', 'PP11G_DIA', 'PP11L', 'PP11L1', 'PP11M', 'PP11N', 'PP11O', 'PP11P', 'PP11Q', 'PP11R', 'PP11S', 'PP11T', 'P21', 'DECOCUR', 'IDECOCUR', 'RDECOCUR', 'GDECOCUR', 'PDECOCUR', 'ADECOCUR', 'PONDIIO', 'TOT_P12', 'P47T', 'DECINDR', 'IDECINDR', 'RDECINDR', 'GDECINDR', 'PDECINDR', 'ADECINDR', 'PONDII', 'V2_M', 'V3_M', 'V4_M', 'V5_M', 'V8_M', 'V9_M', 'V10_M', 'V11_M', 'V12_M', 'V18_M', 'V19_AM', 'V21_M', 'T_VI', 'ITF', 'DECIFR', 'IDECIFR', 'RDECIFR', 'GDECIFR', 'PDECIFR', 'ADECIFR', 'IPCF', 'DECCFR', 'IDECCFR', 'RDECCFR', 'GDECCFR', 'PDECCFR', 'ADECCFR', 'PONDIH']\n",
      "Header encontrado: ['CODUSU', 'ANO4', 'TRIMESTRE', 'NRO_HOGAR', 'COMPONENTE', 'H15', 'REGION', 'MAS_500', 'AGLOMERADO', 'PONDERA', 'CH03', 'CH04', 'CH05', 'CH06', 'CH07', 'CH08', 'CH09', 'CH10', 'CH11', 'CH12', 'CH13', 'CH14', 'CH15', 'CH15_COD', 'CH16', 'CH16_COD', 'NIVEL_ED', 'ESTADO', 'CAT_OCUP', 'CAT_INAC', 'IMPUTA', 'PP02C1', 'PP02C2', 'PP02C3', 'PP02C4', 'PP02C5', 'PP02C6', 'PP02C7', 'PP02C8', 'PP02E', 'PP02H', 'PP02I', 'PP03C', 'PP03D', 'PP3E_TOT', 'PP3F_TOT', 'PP03G', 'PP03H', 'PP03I', 'PP03J', 'INTENSI', 'PP04A', 'PP04B_COD', 'PP04B1', 'PP04B2', 'PP04B3_MES', 'PP04B3_ANO', 'PP04B3_DIA', 'PP04C', 'PP04C99', 'PP04D_COD', 'PP04G', 'PP05B2_MES', 'PP05B2_ANO', 'PP05B2_DIA', 'PP05C_1', 'PP05C_2', 'PP05C_3', 'PP05E', 'PP05F', 'PP05H', 'PP06A', 'PP06C', 'PP06D', 'PP06E', 'PP06H', 'PP07A', 'PP07C', 'PP07D', 'PP07E', 'PP07F1', 'PP07F2', 'PP07F3', 'PP07F4', 'PP07F5', 'PP07G1', 'PP07G2', 'PP07G3', 'PP07G4', 'PP07G_59', 'PP07H', 'PP07I', 'PP07J', 'PP07K', 'PP08D1', 'PP08D4', 'PP08F1', 'PP08F2', 'PP08J1', 'PP08J2', 'PP08J3', 'PP09A', 'PP09A_ESP', 'PP09B', 'PP09C', 'PP09C_ESP', 'PP10A', 'PP10C', 'PP10D', 'PP10E', 'PP11A', 'PP11B_COD', 'PP11B1', 'PP11B2_MES', 'PP11B2_ANO', 'PP11B2_DIA', 'PP11C', 'PP11C99', 'PP11D_COD', 'PP11G_ANO', 'PP11G_MES', 'PP11G_DIA', 'PP11L', 'PP11L1', 'PP11M', 'PP11N', 'PP11O', 'PP11P', 'PP11Q', 'PP11R', 'PP11S', 'PP11T', 'P21', 'DECOCUR', 'IDECOCUR', 'RDECOCUR', 'GDECOCUR', 'PDECOCUR', 'ADECOCUR', 'PONDIIO', 'TOT_P12', 'P47T', 'DECINDR', 'IDECINDR', 'RDECINDR', 'GDECINDR', 'PDECINDR', 'ADECINDR', 'PONDII', 'V2_M', 'V3_M', 'V4_M', 'V5_M', 'V8_M', 'V9_M', 'V10_M', 'V11_M', 'V12_M', 'V18_M', 'V19_AM', 'V21_M', 'T_VI', 'ITF', 'DECIFR', 'IDECIFR', 'RDECIFR', 'GDECIFR', 'PDECIFR', 'ADECIFR', 'IPCF', 'DECCFR', 'IDECCFR', 'RDECCFR', 'GDECCFR', 'PDECCFR', 'ADECCFR', 'PONDIH', '']\n",
      "¡Error! Header inconsistentes en c:\\Users\\juanp\\FACULTAD\\Sem_Python\\Tp3-Integrador\\Trabajo_grupal_Integrador\\code\\notebooks\\..\\files\\data_eph\\usu_individual_T321.txt.txt. Se omitirá.\n"
     ]
    }
   ],
   "source": [
    "import sys \n",
    "sys.path.append(\"..\")\n",
    "\n",
    "import importlib\n",
    "import src.dataset.generar_dataset as join\n",
    "importlib.reload(join)\n",
    "\n",
    "join.join_data() # unir los archivos"
   ]
  },
  {
   "cell_type": "markdown",
   "id": "878e12bb",
   "metadata": {},
   "source": [
    "#### Genero la ruta al archivo unico"
   ]
  },
  {
   "cell_type": "code",
   "execution_count": 3,
   "id": "86a9ddfa",
   "metadata": {},
   "outputs": [],
   "source": [
    "from src.utils.constants import DATA_OUT_PATH\n",
    "\n",
    "# ruta al archivo unico de individual\n",
    "path_unico = DATA_OUT_PATH / \"usu_individual.csv\" # path al archivo unico\n",
    "\n",
    "\n",
    "\n"
   ]
  },
  {
   "cell_type": "markdown",
   "id": "d0f6cc12",
   "metadata": {},
   "source": [
    "# Sección A"
   ]
  },
  {
   "cell_type": "markdown",
   "id": "7392abf8",
   "metadata": {},
   "source": [
    "#### Genero nuevas columnas"
   ]
  },
  {
   "cell_type": "code",
   "execution_count": 4,
   "id": "17c65926",
   "metadata": {},
   "outputs": [],
   "source": [
    "#ACA LLAMAR UNA A UNA A LAS FUNCIONES QUE AGREGAN NUEVAS COLUMNAS\n",
    "\n",
    "# Recargar modulo\n",
    "import importlib\n",
    "import src.dataset.agregar_columnas as recarga\n",
    "importlib.reload(recarga)\n",
    "\n",
    "from src.dataset.agregar_columnas import generar_columnas_csv_individual\n",
    "generar_columnas_csv_individual()\n"
   ]
  },
  {
   "cell_type": "markdown",
   "id": "15514dab",
   "metadata": {},
   "source": [
    "#### Genero la ruta al archivo procesado"
   ]
  },
  {
   "cell_type": "code",
   "execution_count": 5,
   "id": "d4bde216",
   "metadata": {},
   "outputs": [],
   "source": [
    "from src.utils.constants import DATA_OUT_PATH\n",
    "\n",
    "path_procesado = DATA_OUT_PATH / \"individual_process.csv\" "
   ]
  },
  {
   "cell_type": "markdown",
   "id": "547765a0",
   "metadata": {},
   "source": [
    "#### Imprimo el encabezado y 1ra linea para chequear"
   ]
  },
  {
   "cell_type": "code",
   "execution_count": 6,
   "id": "d18539ca",
   "metadata": {},
   "outputs": [
    {
     "name": "stdout",
     "output_type": "stream",
     "text": [
      "['CODUSU', 'ANO4', 'TRIMESTRE', 'NRO_HOGAR', 'COMPONENTE', 'H15', 'REGION', 'MAS_500', 'AGLOMERADO', 'PONDERA', 'CH03', 'CH04', 'CH05', 'CH06', 'CH07', 'CH08', 'CH09', 'CH10', 'CH11', 'CH12', 'CH13', 'CH14', 'CH15', 'CH15_COD', 'CH16', 'CH16_COD', 'NIVEL_ED', 'ESTADO', 'CAT_OCUP', 'CAT_INAC', 'IMPUTA', 'PP02C1', 'PP02C2', 'PP02C3', 'PP02C4', 'PP02C5', 'PP02C6', 'PP02C7', 'PP02C8', 'PP02E', 'PP02H', 'PP02I', 'PP03C', 'PP03D', 'PP3E_TOT', 'PP3F_TOT', 'PP03G', 'PP03H', 'PP03I', 'PP03J', 'INTENSI', 'PP04A', 'PP04B_COD', 'PP04B1', 'PP04B2', 'PP04B3_MES', 'PP04B3_ANO', 'PP04B3_DIA', 'PP04C', 'PP04C99', 'PP04D_COD', 'PP04G', 'PP05B2_MES', 'PP05B2_ANO', 'PP05B2_DIA', 'PP05C_1', 'PP05C_2', 'PP05C_3', 'PP05E', 'PP05F', 'PP05H', 'PP06A', 'PP06C', 'PP06D', 'PP06E', 'PP06H', 'PP07A', 'PP07C', 'PP07D', 'PP07E', 'PP07F1', 'PP07F2', 'PP07F3', 'PP07F4', 'PP07F5', 'PP07G1', 'PP07G2', 'PP07G3', 'PP07G4', 'PP07G_59', 'PP07H', 'PP07I', 'PP07J', 'PP07K', 'PP08D1', 'PP08D4', 'PP08F1', 'PP08F2', 'PP08J1', 'PP08J2', 'PP08J3', 'PP09A', 'PP09A_ESP', 'PP09B', 'PP09C', 'PP09C_ESP', 'PP10A', 'PP10C', 'PP10D', 'PP10E', 'PP11A', 'PP11B_COD', 'PP11B1', 'PP11B2_MES', 'PP11B2_ANO', 'PP11B2_DIA', 'PP11C', 'PP11C99', 'PP11D_COD', 'PP11G_ANO', 'PP11G_MES', 'PP11G_DIA', 'PP11L', 'PP11L1', 'PP11M', 'PP11N', 'PP11O', 'PP11P', 'PP11Q', 'PP11R', 'PP11S', 'PP11T', 'P21', 'DECOCUR', 'IDECOCUR', 'RDECOCUR', 'GDECOCUR', 'PDECOCUR', 'ADECOCUR', 'PONDIIO', 'TOT_P12', 'P47T', 'DECINDR', 'IDECINDR', 'RDECINDR', 'GDECINDR', 'PDECINDR', 'ADECINDR', 'PONDII', 'V2_M', 'V3_M', 'V4_M', 'V5_M', 'V8_M', 'V9_M', 'V10_M', 'V11_M', 'V12_M', 'V18_M', 'V19_AM', 'V21_M', 'T_VI', 'ITF', 'DECIFR', 'IDECIFR', 'RDECIFR', 'GDECIFR', 'PDECIFR', 'ADECIFR', 'IPCF', 'DECCFR', 'IDECCFR', 'RDECCFR', 'GDECCFR', 'PDECCFR', 'ADECCFR', 'PONDIH', 'CH04_str', 'NIVEL_ED_str', 'CONDICION_LABORAL', 'UNIVERSITARIO']\n",
      "['TQRMNOQURHKOMLCDEFIAH00469284', '2017', '1', '1', '4', '1', '43', 'S', '2', '861', '3', '2', '12/12/1998', '18', '1', '4', '1', '2', '0', '2', '1', '', '1', '', '1', '', '2', '3', '0', '4', '0', '0', '0', '0', '0', '0', '0', '0', '0', '0', '2', '2', '', '', '', '', '', '', '', '', '', '', '', '', '', '', '', '', '', '', '', '', '', '', '', '', '', '', '', '', '', '', '', '', '', '', '', '', '', '', '', '', '', '', '', '', '', '', '', '', '', '', '', '', '', '', '', '', '', '', '', '', '', '', '', '', '', '', '', '', '', '', '', '', '', '', '', '', '', '', '', '', '', '', '', '', '', '', '', '', '', '', '0', '00', '00', '00', '00', '  ', '00', '861', '0', '1000', '01', '01', '01', '01', '  ', '01', '1088', '0', '0', '0', '1000', '0', '0', '0', '0', '0', '0', '0', '0', '1000', '0', '  ', '  ', '  ', '  ', '  ', '  ', '0', '  ', '  ', '  ', '  ', '  ', '  ', '0', 'Femenino', 'Primario completo', 'Inactivo', '2']\n"
     ]
    }
   ],
   "source": [
    "import csv\n",
    "\n",
    "with path_procesado.open('r',encoding='utf-8') as individual_csv:\n",
    "    csv_reader = csv.reader(individual_csv, delimiter=';')\n",
    "    header,data= next(csv_reader), list(csv_reader)\n",
    "    print(header)\n",
    "    print(data[0])"
   ]
  },
  {
   "cell_type": "markdown",
   "id": "102d0baf",
   "metadata": {},
   "source": [
    "# Sección B"
   ]
  },
  {
   "cell_type": "code",
   "execution_count": 7,
   "id": "39c573fc",
   "metadata": {},
   "outputs": [
    {
     "name": "stdout",
     "output_type": "stream",
     "text": [
      "-----------------Ejercicio 1B--------------\n",
      "Año 2016 (trimestre 4):\n",
      "  Sabe leer y escribir: 99.01%\n",
      "  No sabe leer y escribir: 0.99%\n",
      "\n",
      "Año 2017 (trimestre 4):\n",
      "  Sabe leer y escribir: 98.97%\n",
      "  No sabe leer y escribir: 1.03%\n",
      "\n",
      "Año 2018 (trimestre 4):\n",
      "  Sabe leer y escribir: 98.96%\n",
      "  No sabe leer y escribir: 1.04%\n",
      "\n",
      "Año 2019 (trimestre 4):\n",
      "  Sabe leer y escribir: 99.02%\n",
      "  No sabe leer y escribir: 0.98%\n",
      "\n",
      "Año 2020 (trimestre 4):\n",
      "  Sabe leer y escribir: 99.12%\n",
      "  No sabe leer y escribir: 0.88%\n",
      "\n",
      "Año 2021 (trimestre 4):\n",
      "  Sabe leer y escribir: 99.08%\n",
      "  No sabe leer y escribir: 0.92%\n",
      "\n",
      "Año 2022 (trimestre 4):\n",
      "  Sabe leer y escribir: 99.18%\n",
      "  No sabe leer y escribir: 0.82%\n",
      "\n",
      "Año 2023 (trimestre 4):\n",
      "  Sabe leer y escribir: 99.08%\n",
      "  No sabe leer y escribir: 0.92%\n",
      "\n",
      "Año 2024 (trimestre 3):\n",
      "  Sabe leer y escribir: 99.14%\n",
      "  No sabe leer y escribir: 0.86%\n",
      "\n",
      "\n",
      "-----------------Ejercicio 2B---------------\n",
      "Para el año 2022, trimestre 2:\n",
      "El 30.56% de las personas no nacidas en Argentina tienen estudios universitarios o superiores.\n",
      "\n",
      "-----------------Ejercicio 3B--------------\n",
      "El menor nivel de desocupacion fue en el ano 2023, trimestre 3\n",
      "\n",
      "-----------------Ejercicio 7B---------------\n",
      "\n",
      "Porcentaje de personas con nivel universitario o superior:\n",
      "\n",
      "Gran Mendoza: 26.85%\n",
      "Corrientes: 28.54%\n",
      "Gran Córdoba: 28.51%\n",
      "Concordia: 16.60%\n",
      "Formosa: 19.22%\n",
      "Neuquén - Plottier: 22.29%\n",
      "Santiago del Estero - La Banda: 21.82%\n",
      "Jujuy - Palpalá: 26.99%\n",
      "Río Gallegos: 21.34%\n",
      "Gran Catamarca: 25.04%\n",
      "Gran Salta: 26.26%\n",
      "La Rioja: 26.15%\n",
      "Gran San Luis: 22.47%\n",
      "Gran San Juan: 21.51%\n",
      "Gran Tucumán - Tafí Viejo: 24.27%\n",
      "Santa Rosa - Toay: 22.68%\n",
      "Ushuaia - Río Grande: 21.60%\n",
      "Ciudad Autónoma de Buenos Aires: 46.72%\n",
      "Partidos del GBA: 19.39%\n",
      "Mar del Plata: 26.80%\n",
      "Río Cuarto: 27.27%\n",
      "San Nicolás - Villa Constitución: 19.90%\n",
      "Rawson - Trelew: 20.13%\n",
      "Viedma- Carmen de Patagones: 24.36%\n",
      "\n",
      "-----------------Ejercicio 9B--------------\n",
      "\n",
      "El código '40' no corresponde a ningún aglomerado conocido.\n",
      "\n",
      "No se encontraron datos para el aglomerado 40\n",
      "\n",
      "-----------------Ejercicio 10B--------------\n",
      "02: Gran La Plata, 03: Bahía Blanca - Cerri, 04: Gran Rosario, 05: Gran Santa Fé, 06: Gran Paraná, 07: Posadas, 08: Gran Resistencia, 09: Comodoro Rivadavia - Rada Tilly, 10: Gran Mendoza, 12: Corrientes, 13: Gran Córdoba, 14: Concordia, 15: Formosa, 17: Neuquén - Plottier, 18: Santiago del Estero - La Banda, 19: Jujuy - Palpalá, 20: Río Gallegos, 22: Gran Catamarca, 23: Gran Salta, 25: La Rioja, 26: Gran San Luis, 27: Gran San Juan, 29: Gran Tucumán - Tafí Viejo, 30: Santa Rosa - Toay, 31: Ushuaia - Río Grande, 32: Ciudad Autónoma de Buenos Aires, 33: Partidos del GBA, 34: Mar del Plata, 36: Río Cuarto, 38: San Nicolás - Villa Constitución, 91: Rawson - Trelew, 93: Viedma- Carmen de Patagones, \n",
      "Procesando archivo...\n",
      "Calculando porcentaje...\n",
      "Mostrar información...\n",
      "Año    Trimestre   Gran La Plata     Gran La Plata\n",
      "2016   2    1.91%    \n",
      "2016   3    1.97%    \n",
      "2016   4    1.71%    \n",
      "2017   1    1.67%    \n",
      "2017   2    1.28%    \n",
      "2017   3    1.58%    \n",
      "2017   4    1.11%    \n",
      "2018   1    1.37%    \n",
      "2018   2    1.16%    \n",
      "2018   3    1.4%    \n",
      "2018   4    1.81%    \n",
      "2019   1    1.44%    \n",
      "2019   2    1.33%    \n",
      "2019   3    2.06%    \n",
      "2019   4    2.26%    \n",
      "2020   1    2.06%    \n",
      "2020   2    1.45%    \n",
      "2020   3    1.4%    \n",
      "2020   4    1.43%    \n",
      "2021   1    1.51%    \n",
      "2021   2    1.2%    \n",
      "2021   4    1.59%    \n",
      "2022   1    1.93%    \n",
      "2022   2    1.7%    \n",
      "2022   3    2.68%    \n",
      "2022   4    2.93%    \n",
      "2023   1    2.3%    \n",
      "2023   2    2.51%    \n",
      "2023   3    1.92%    \n",
      "2023   4    2.72%    \n",
      "2024   1    2.47%    \n",
      "2024   2    1.38%    \n",
      "2024   3    1.32%    \n",
      "\n"
     ]
    }
   ],
   "source": [
    "# Recargar modulo\n",
    "import importlib\n",
    "import src.dataset.consultar_dataset as recarga\n",
    "importlib.reload(recarga)\n",
    "\n",
    "from src.utils.constants import DATA_OUT_PATH\n",
    "import src.dataset.consultar_dataset as consultar\n",
    "\n",
    "path_archivo_individual = DATA_OUT_PATH / \"individual_process.csv\"\n",
    "\n",
    "print(\"-----------------Ejercicio 1B--------------\")\n",
    "consultar.alfabetismo_por_ano(path_archivo_individual)\n",
    "print()\n",
    "\n",
    "print('-----------------Ejercicio 2B---------------')\n",
    "consultar.extranjeros_con_estudios_universitarios(path_archivo_individual)\n",
    "print()\n",
    "\n",
    "print(\"-----------------Ejercicio 3B--------------\")\n",
    "consultar.ano_y_trimestre_menor_desocupacion_PB_EJ3(path_archivo_individual)\n",
    "print()\n",
    "\n",
    "print('-----------------Ejercicio 7B---------------')\n",
    "consultar.informar_nivel_universitario(path_archivo_individual)\n",
    "print()\n",
    "\n",
    "print(\"-----------------Ejercicio 9B--------------\")\n",
    "aglomerado, tabla = consultar.tabla_nivel_educativo_por_aglomerado_EJ_9B(path_archivo_individual)\n",
    "# Mostrar resultados\n",
    "consultar.imprimir_tabla_nivel_ed_EJ_9B(aglomerado, tabla)\n",
    "print()\n",
    "\n",
    "print(\"-----------------Ejercicio 10B--------------\")\n",
    "consultar.informar_tabla_porcentaje_10B(path_archivo_individual)\n",
    "print()\n"
   ]
  }
 ],
 "metadata": {
  "kernelspec": {
   "display_name": "Python 3",
   "language": "python",
   "name": "python3"
  },
  "language_info": {
   "codemirror_mode": {
    "name": "ipython",
    "version": 3
   },
   "file_extension": ".py",
   "mimetype": "text/x-python",
   "name": "python",
   "nbconvert_exporter": "python",
   "pygments_lexer": "ipython3",
   "version": "3.12.9"
  }
 },
 "nbformat": 4,
 "nbformat_minor": 5
}
