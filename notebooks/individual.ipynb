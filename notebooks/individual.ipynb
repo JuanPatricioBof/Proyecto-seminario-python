{
 "cells": [
  {
   "cell_type": "markdown",
   "id": "cfeefaa6",
   "metadata": {},
   "source": [
    "# Procesar encuesta individuos"
   ]
  },
  {
   "cell_type": "markdown",
   "id": "8600f732",
   "metadata": {},
   "source": [
    "#### Genero dataset unico"
   ]
  },
  {
   "cell_type": "code",
   "execution_count": null,
   "id": "83353df4",
   "metadata": {},
   "outputs": [],
   "source": [
    "import sys \n",
    "sys.path.append(\"..\")\n",
    "\n",
    "import importlib\n",
    "import src.dataset.generate_dataset as join\n",
    "importlib.reload(join)\n",
    "\n",
    "join.join_data(\"individual\") # unir los archivos"
   ]
  },
  {
   "cell_type": "markdown",
   "id": "878e12bb",
   "metadata": {},
   "source": [
    "#### Genero la ruta al archivo unico"
   ]
  },
  {
   "cell_type": "code",
   "execution_count": null,
   "id": "86a9ddfa",
   "metadata": {},
   "outputs": [],
   "source": [
    "from src.utils.constants import DATA_OUT_PATH\n",
    "\n",
    "# ruta al archivo unico de individual\n",
    "path_unico = DATA_OUT_PATH / \"usu_individual.csv\" # path al archivo unico\n",
    "\n",
    "\n",
    "\n"
   ]
  },
  {
   "cell_type": "markdown",
   "id": "d0f6cc12",
   "metadata": {},
   "source": [
    "# Sección A"
   ]
  },
  {
   "cell_type": "markdown",
   "id": "7392abf8",
   "metadata": {},
   "source": [
    "#### Genero nuevas columnas"
   ]
  },
  {
   "cell_type": "code",
   "execution_count": null,
   "id": "17c65926",
   "metadata": {},
   "outputs": [],
   "source": [
    "#ACA LLAMAR UNA A UNA A LAS FUNCIONES QUE AGREGAN NUEVAS COLUMNAS\n",
    "\n",
    "import importlib\n",
    "import src.dataset.generate_dataset as generate\n",
    "importlib.reload(generate)\n",
    "\n",
    "generate.generar_columnas_individual()\n"
   ]
  },
  {
   "cell_type": "markdown",
   "id": "15514dab",
   "metadata": {},
   "source": [
    "#### Genero la ruta al archivo procesado"
   ]
  },
  {
   "cell_type": "code",
   "execution_count": null,
   "id": "d4bde216",
   "metadata": {},
   "outputs": [],
   "source": [
    "from src.utils.constants import DATA_OUT_PATH\n",
    "\n",
    "path_procesado = DATA_OUT_PATH / \"individual_process.csv\" "
   ]
  },
  {
   "cell_type": "markdown",
   "id": "547765a0",
   "metadata": {},
   "source": [
    "#### Imprimo el encabezado y 1ra linea para chequear"
   ]
  },
  {
   "cell_type": "code",
   "execution_count": null,
   "id": "d18539ca",
   "metadata": {},
   "outputs": [],
   "source": [
    "import csv\n",
    "\n",
    "with path_procesado.open('r',encoding='utf-8') as individual_csv:\n",
    "    csv_reader = csv.reader(individual_csv, delimiter=';')\n",
    "    header,data= next(csv_reader), list(csv_reader)\n",
    "    print(header)\n",
    "    print(data[0])"
   ]
  },
  {
   "cell_type": "markdown",
   "id": "102d0baf",
   "metadata": {},
   "source": [
    "# Sección B"
   ]
  },
  {
   "cell_type": "code",
   "execution_count": null,
   "id": "39c573fc",
   "metadata": {},
   "outputs": [],
   "source": [
    "import importlib\n",
    "import src.dataset.process_dataset_a as process_a\n",
    "import src.dataset.process_dataset_b as process_b\n",
    "importlib.reload(process_a)\n",
    "importlib.reload(process_b)\n",
    "\n",
    "\n",
    "#llamar a funciones que procesan los datos\n",
    "print(\"-----------------Ejercicio 1B--------------\")\n",
    "process_a.alfabetismo_por_ano(path_procesado)\n",
    "print()\n",
    "print('-----------------Ejercicio 2B---------------')\n",
    "process_a.extranjeros_con_estudios_universitarios(path_procesado)\n",
    "print()\n",
    "print(\"-----------------Ejercicio 3B--------------\")\n",
    "process_a.ano_y_trimestre_menor_desocupacion_PB_EJ3(path_procesado)\n",
    "print(\"-----------------Ejercicio 9B--------------\")\n",
    "process_b.tabla_nivel_educativo_por_aglomerado_EJ_9B(path_procesado)\n",
    "print(\"-----------------Ejercicio 10B--------------\")\n",
    "#process_b.informar_tabla_porcentaje_10B(path_procesado)\n",
    "print()\n",
    "print('-----------------Ejercicio 7b---------------')\n",
    "process_a.informar_nivel_universitario(path_procesado)\n",
    "print()"
   ]
  }
 ],
 "metadata": {
  "kernelspec": {
   "display_name": "Python 3",
   "language": "python",
   "name": "python3"
  },
  "language_info": {
   "codemirror_mode": {
    "name": "ipython",
    "version": 3
   },
   "file_extension": ".py",
   "mimetype": "text/x-python",
   "name": "python",
   "nbconvert_exporter": "python",
   "pygments_lexer": "ipython3",
   "version": "3.12.9"
  }
 },
 "nbformat": 4,
 "nbformat_minor": 5
}
