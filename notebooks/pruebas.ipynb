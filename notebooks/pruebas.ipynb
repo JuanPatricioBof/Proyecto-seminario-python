{
 "cells": [
  {
   "cell_type": "markdown",
   "id": "a6c420bf",
   "metadata": {},
   "source": [
    "Acceso a src"
   ]
  },
  {
   "cell_type": "code",
   "execution_count": null,
   "id": "d7d9b9fd",
   "metadata": {},
   "outputs": [],
   "source": [
    "import sys\n",
    "sys.path.append(\"..\") "
   ]
  },
  {
   "cell_type": "markdown",
   "id": "5b6d0cad",
   "metadata": {},
   "source": [
    "Leer EPHs y generar datasets únicos"
   ]
  },
  {
   "cell_type": "code",
   "execution_count": null,
   "id": "4fa4cb1b",
   "metadata": {},
   "outputs": [],
   "source": [
    "# Recargar modulo\n",
    "import importlib\n",
    "import src.dataset.generar_dataset as recarga\n",
    "importlib.reload(recarga)\n",
    "\n",
    "from src.dataset.generar_dataset import join_data\n",
    "join_data() \n",
    "# VER LOS ARCHIVOS EN DATA_OUT "
   ]
  },
  {
   "cell_type": "markdown",
   "id": "6806fcdf",
   "metadata": {},
   "source": [
    "Agregar columnas"
   ]
  },
  {
   "cell_type": "code",
   "execution_count": null,
   "id": "7730751b",
   "metadata": {},
   "outputs": [],
   "source": [
    "# Recargar modulo\n",
    "import importlib\n",
    "import src.dataset.agregar_columnas as recarga\n",
    "importlib.reload(recarga)\n",
    "\n",
    "from src.dataset.agregar_columnas import generar_columnas_individual, generar_columnas_hogar\n",
    "#generar_columnas_individual()\n",
    "generar_columnas_hogar()"
   ]
  },
  {
   "cell_type": "markdown",
   "id": "568b517f",
   "metadata": {},
   "source": [
    "Agregar columnas MAS EFICIENTE (falta hogar)"
   ]
  },
  {
   "cell_type": "code",
   "execution_count": null,
   "id": "d6cf6a94",
   "metadata": {},
   "outputs": [],
   "source": [
    "# Recargar modulo\n",
    "import importlib\n",
    "import src.dataset.agregar_columnas as recarga\n",
    "importlib.reload(recarga)\n",
    "\n",
    "from src.dataset.agregar_columnas import generar_columnas_csv_individual\n",
    "generar_columnas_csv_individual()\n",
    "# FALTA IMPLEMENTAR HOGAR"
   ]
  },
  {
   "cell_type": "markdown",
   "id": "8dc7717b",
   "metadata": {},
   "source": [
    "Procesar datasets individual"
   ]
  },
  {
   "cell_type": "code",
   "execution_count": null,
   "id": "5e7fde5e",
   "metadata": {},
   "outputs": [],
   "source": [
    "# Recargar modulo\n",
    "import importlib\n",
    "import src.dataset.consultar_dataset as recarga\n",
    "importlib.reload(recarga)\n",
    "\n",
    "from src.utils.constants import DATA_OUT_PATH\n",
    "import src.dataset.consultar_dataset as consultar\n",
    "\n",
    "path_archivo_individual = DATA_OUT_PATH / \"individual_process.csv\"\n",
    "\n",
    "print(\"-----------------Ejercicio 1B--------------\")\n",
    "consultar.alfabetismo_por_ano(path_archivo_individual)\n",
    "print()\n",
    "\n",
    "print('-----------------Ejercicio 2B---------------')\n",
    "consultar.extranjeros_con_estudios_universitarios(path_archivo_individual)\n",
    "print()\n",
    "\n",
    "print(\"-----------------Ejercicio 3B--------------\")\n",
    "consultar.ano_y_trimestre_menor_desocupacion_PB_EJ3(path_archivo_individual)\n",
    "print()\n",
    "\n",
    "print('-----------------Ejercicio 7B---------------')\n",
    "consultar.informar_nivel_universitario(path_archivo_individual)\n",
    "print()\n",
    "\n",
    "print(\"-----------------Ejercicio 9B--------------\")\n",
    "consultar.tabla_nivel_educativo_por_aglomerado_EJ_9B(path_archivo_individual)\n",
    "print()\n",
    "\n",
    "print(\"-----------------Ejercicio 10B--------------\")\n",
    "consultar.informar_tabla_porcentaje_10B(path_archivo_individual)\n",
    "print()"
   ]
  },
  {
   "cell_type": "markdown",
   "id": "59fae3b8",
   "metadata": {},
   "source": [
    "Procesar datasets hogares"
   ]
  },
  {
   "cell_type": "code",
   "execution_count": null,
   "id": "295bf992",
   "metadata": {},
   "outputs": [],
   "source": [
    "# Recargar modulo\n",
    "import importlib\n",
    "import src.dataset.consultar_dataset as recarga\n",
    "importlib.reload(recarga)\n",
    "\n",
    "from src.utils.constants import DATA_OUT_PATH\n",
    "import src.dataset.consultar_dataset as consultar\n",
    "\n",
    "path_archivo_hogar = DATA_OUT_PATH / \"hogar_process.csv\"\n",
    "\n",
    "print(\"-----------------Ejercicio 4B---------------\")\n",
    "consultar.ranking_aglomerado_EJ4()\n",
    "\n",
    "\"\"\"print(\"-----------------Ejercicio 5B---------------\")\n",
    "consultar.informar_aglomerados_porcentajes_5B(path_archivo_hogar)\n",
    "print()\n",
    "\n",
    "print(\"-----------------Ejercicio 6B----------------\")\n",
    "consultar.informar_aglomerado_punto6(path_archivo_hogar)\n",
    "print()\n",
    "\n",
    "print(\"-----------------Ejercicio 8B---------------\")\n",
    "consultar.regiones_segun_porcentaje_inquilinos(path_archivo_hogar)\n",
    "print()\n",
    "\n",
    "print(\"-----------------Ejercicio 11B---------------\")\n",
    "consultar.informar_aglomerados_punto11(path_archivo_hogar)\n",
    "print()\n",
    "\n",
    "print(\"-----------------Ejercicio 12B---------------\")\n",
    "consultar.jubilados_condicion_habitabilidad_insuficiente(path_archivo_hogar, path_archivo_individual)\n",
    "print()\n",
    "\n",
    "print(\"-----------------Ejercicio 13B---------------\")\n",
    "consultar.universitarios_en_viviendas_insuficientes(path_archivo_hogar, path_archivo_individual)\n",
    "print()\"\"\""
   ]
  }
 ],
 "metadata": {
  "kernelspec": {
   "display_name": "Python 3",
   "language": "python",
   "name": "python3"
  },
  "language_info": {
   "codemirror_mode": {
    "name": "ipython",
    "version": 3
   },
   "file_extension": ".py",
   "mimetype": "text/x-python",
   "name": "python",
   "nbconvert_exporter": "python",
   "pygments_lexer": "ipython3",
   "version": "3.12.9"
  }
 },
 "nbformat": 4,
 "nbformat_minor": 5
}
