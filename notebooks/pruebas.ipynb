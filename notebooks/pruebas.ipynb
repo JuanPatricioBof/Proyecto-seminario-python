{
 "cells": [
  {
   "cell_type": "markdown",
   "id": "a6c420bf",
   "metadata": {},
   "source": [
    "Acceso a src"
   ]
  },
  {
   "cell_type": "code",
   "execution_count": 6,
   "id": "d7d9b9fd",
   "metadata": {},
   "outputs": [],
   "source": [
    "import sys\n",
    "sys.path.append(\"..\") "
   ]
  },
  {
   "cell_type": "markdown",
   "id": "5b6d0cad",
   "metadata": {},
   "source": [
    "Leer EPHs y generar datasets únicos"
   ]
  },
  {
   "cell_type": "code",
   "execution_count": null,
   "id": "4fa4cb1b",
   "metadata": {},
   "outputs": [
    {
     "name": "stdout",
     "output_type": "stream",
     "text": [
      "Header esperado: ['CODUSU', 'ANO4', 'TRIMESTRE', 'NRO_HOGAR', 'REALIZADA', 'REGION', 'MAS_500', 'AGLOMERADO', 'PONDERA', 'IV1', 'IV1_ESP', 'IV2', 'IV3', 'IV3_ESP', 'IV4', 'IV5', 'IV6', 'IV7', 'IV7_ESP', 'IV8', 'IV9', 'IV10', 'IV11', 'IV12_1', 'IV12_2', 'IV12_3', 'II1', 'II2', 'II3', 'II3_1', 'II4_1', 'II4_2', 'II4_3', 'II5', 'II5_1', 'II6', 'II6_1', 'II7', 'II7_ESP', 'II8', 'II8_ESP', 'II9', 'V1', 'V2', 'V21', 'V22', 'V3', 'V4', 'V5', 'V6', 'V7', 'V8', 'V9', 'V10', 'V11', 'V12', 'V13', 'V14', 'V15', 'V16', 'V17', 'V18', 'V19_A', 'V19_B', 'IX_TOT', 'IX_MEN10', 'IX_MAYEQ10', 'ITF', 'DECIFR', 'IDECIFR', 'RDECIFR', 'GDECIFR', 'PDECIFR', 'ADECIFR', 'IPCF', 'DECCFR', 'IDECCFR', 'RDECCFR', 'GDECCFR', 'PDECCFR', 'ADECCFR', 'PONDIH', 'VII1_1', 'VII1_2', 'VII2_1', 'VII2_2', 'VII2_3', 'VII2_4']\n",
      "Header encontrado: ['CODUSU', 'ANO4', 'TRIMESTRE', 'NRO_HOGAR', 'REALIZADA', 'REGION', 'MAS_500', 'AGLOMERADO', 'PONDERA', 'IV1', 'IV1_ESP', 'IV2', 'IV3', 'IV3_ESP', 'IV4', 'IV5', 'IV6', 'IV7', 'IV7_ESP', 'IV8', 'IV9', 'IV10', 'IV11', 'IV12_1', 'IV12_2', 'IV12_3', 'II1', 'II2', 'II3', 'II3_1', 'II4_1', 'II4_2', 'II4_3', 'II5', 'II5_1', 'II6', 'II6_1', 'II7', 'II7_ESP', 'II8', 'II8_ESP', 'II9', 'V1', 'V2', 'V21', 'V22', 'V3', 'V4', 'V5', 'V6', 'V7', 'V8', 'V9', 'V10', 'V11', 'V12', 'V13', 'V14', 'V15', 'V16', 'V17', 'V18', 'V19_A', 'V19_B', 'IX_TOT', 'IX_MEN10', 'IX_MAYEQ10', 'ITF', 'DECIFR', 'IDECIFR', 'RDECIFR', 'GDECIFR', 'PDECIFR', 'ADECIFR', 'IPCF', 'DECCFR', 'IDECCFR', 'RDECCFR', 'GDECCFR', 'PDECCFR', 'ADECCFR', 'PONDIH', 'VII1_1', 'VII1_2', 'VII2_1', 'VII2_2', 'VII2_3', 'VII2_4', '']\n",
      "¡Error! Header inconsistentes en c:\\Users\\juanp\\FACULTAD\\Sem_Python\\Tp3-Integrador\\Trabajo_grupal_Integrador\\code\\notebooks\\..\\files\\data_eph\\usu_hogar_T321.txt.txt. Se omitirá.\n",
      "Header esperado: ['CODUSU', 'ANO4', 'TRIMESTRE', 'NRO_HOGAR', 'COMPONENTE', 'H15', 'REGION', 'MAS_500', 'AGLOMERADO', 'PONDERA', 'CH03', 'CH04', 'CH05', 'CH06', 'CH07', 'CH08', 'CH09', 'CH10', 'CH11', 'CH12', 'CH13', 'CH14', 'CH15', 'CH15_COD', 'CH16', 'CH16_COD', 'NIVEL_ED', 'ESTADO', 'CAT_OCUP', 'CAT_INAC', 'IMPUTA', 'PP02C1', 'PP02C2', 'PP02C3', 'PP02C4', 'PP02C5', 'PP02C6', 'PP02C7', 'PP02C8', 'PP02E', 'PP02H', 'PP02I', 'PP03C', 'PP03D', 'PP3E_TOT', 'PP3F_TOT', 'PP03G', 'PP03H', 'PP03I', 'PP03J', 'INTENSI', 'PP04A', 'PP04B_COD', 'PP04B1', 'PP04B2', 'PP04B3_MES', 'PP04B3_ANO', 'PP04B3_DIA', 'PP04C', 'PP04C99', 'PP04D_COD', 'PP04G', 'PP05B2_MES', 'PP05B2_ANO', 'PP05B2_DIA', 'PP05C_1', 'PP05C_2', 'PP05C_3', 'PP05E', 'PP05F', 'PP05H', 'PP06A', 'PP06C', 'PP06D', 'PP06E', 'PP06H', 'PP07A', 'PP07C', 'PP07D', 'PP07E', 'PP07F1', 'PP07F2', 'PP07F3', 'PP07F4', 'PP07F5', 'PP07G1', 'PP07G2', 'PP07G3', 'PP07G4', 'PP07G_59', 'PP07H', 'PP07I', 'PP07J', 'PP07K', 'PP08D1', 'PP08D4', 'PP08F1', 'PP08F2', 'PP08J1', 'PP08J2', 'PP08J3', 'PP09A', 'PP09A_ESP', 'PP09B', 'PP09C', 'PP09C_ESP', 'PP10A', 'PP10C', 'PP10D', 'PP10E', 'PP11A', 'PP11B_COD', 'PP11B1', 'PP11B2_MES', 'PP11B2_ANO', 'PP11B2_DIA', 'PP11C', 'PP11C99', 'PP11D_COD', 'PP11G_ANO', 'PP11G_MES', 'PP11G_DIA', 'PP11L', 'PP11L1', 'PP11M', 'PP11N', 'PP11O', 'PP11P', 'PP11Q', 'PP11R', 'PP11S', 'PP11T', 'P21', 'DECOCUR', 'IDECOCUR', 'RDECOCUR', 'GDECOCUR', 'PDECOCUR', 'ADECOCUR', 'PONDIIO', 'TOT_P12', 'P47T', 'DECINDR', 'IDECINDR', 'RDECINDR', 'GDECINDR', 'PDECINDR', 'ADECINDR', 'PONDII', 'V2_M', 'V3_M', 'V4_M', 'V5_M', 'V8_M', 'V9_M', 'V10_M', 'V11_M', 'V12_M', 'V18_M', 'V19_AM', 'V21_M', 'T_VI', 'ITF', 'DECIFR', 'IDECIFR', 'RDECIFR', 'GDECIFR', 'PDECIFR', 'ADECIFR', 'IPCF', 'DECCFR', 'IDECCFR', 'RDECCFR', 'GDECCFR', 'PDECCFR', 'ADECCFR', 'PONDIH']\n",
      "Header encontrado: ['CODUSU', 'ANO4', 'TRIMESTRE', 'NRO_HOGAR', 'COMPONENTE', 'H15', 'REGION', 'MAS_500', 'AGLOMERADO', 'PONDERA', 'CH03', 'CH04', 'CH05', 'CH06', 'CH07', 'CH08', 'CH09', 'CH10', 'CH11', 'CH12', 'CH13', 'CH14', 'CH15', 'CH15_COD', 'CH16', 'CH16_COD', 'NIVEL_ED', 'ESTADO', 'CAT_OCUP', 'CAT_INAC', 'IMPUTA', 'PP02C1', 'PP02C2', 'PP02C3', 'PP02C4', 'PP02C5', 'PP02C6', 'PP02C7', 'PP02C8', 'PP02E', 'PP02H', 'PP02I', 'PP03C', 'PP03D', 'PP3E_TOT', 'PP3F_TOT', 'PP03G', 'PP03H', 'PP03I', 'PP03J', 'INTENSI', 'PP04A', 'PP04B_COD', 'PP04B1', 'PP04B2', 'PP04B3_MES', 'PP04B3_ANO', 'PP04B3_DIA', 'PP04C', 'PP04C99', 'PP04D_COD', 'PP04G', 'PP05B2_MES', 'PP05B2_ANO', 'PP05B2_DIA', 'PP05C_1', 'PP05C_2', 'PP05C_3', 'PP05E', 'PP05F', 'PP05H', 'PP06A', 'PP06C', 'PP06D', 'PP06E', 'PP06H', 'PP07A', 'PP07C', 'PP07D', 'PP07E', 'PP07F1', 'PP07F2', 'PP07F3', 'PP07F4', 'PP07F5', 'PP07G1', 'PP07G2', 'PP07G3', 'PP07G4', 'PP07G_59', 'PP07H', 'PP07I', 'PP07J', 'PP07K', 'PP08D1', 'PP08D4', 'PP08F1', 'PP08F2', 'PP08J1', 'PP08J2', 'PP08J3', 'PP09A', 'PP09A_ESP', 'PP09B', 'PP09C', 'PP09C_ESP', 'PP10A', 'PP10C', 'PP10D', 'PP10E', 'PP11A', 'PP11B_COD', 'PP11B1', 'PP11B2_MES', 'PP11B2_ANO', 'PP11B2_DIA', 'PP11C', 'PP11C99', 'PP11D_COD', 'PP11G_ANO', 'PP11G_MES', 'PP11G_DIA', 'PP11L', 'PP11L1', 'PP11M', 'PP11N', 'PP11O', 'PP11P', 'PP11Q', 'PP11R', 'PP11S', 'PP11T', 'P21', 'DECOCUR', 'IDECOCUR', 'RDECOCUR', 'GDECOCUR', 'PDECOCUR', 'ADECOCUR', 'PONDIIO', 'TOT_P12', 'P47T', 'DECINDR', 'IDECINDR', 'RDECINDR', 'GDECINDR', 'PDECINDR', 'ADECINDR', 'PONDII', 'V2_M', 'V3_M', 'V4_M', 'V5_M', 'V8_M', 'V9_M', 'V10_M', 'V11_M', 'V12_M', 'V18_M', 'V19_AM', 'V21_M', 'T_VI', 'ITF', 'DECIFR', 'IDECIFR', 'RDECIFR', 'GDECIFR', 'PDECIFR', 'ADECIFR', 'IPCF', 'DECCFR', 'IDECCFR', 'RDECCFR', 'GDECCFR', 'PDECCFR', 'ADECCFR', 'PONDIH', '']\n",
      "¡Error! Header inconsistentes en c:\\Users\\juanp\\FACULTAD\\Sem_Python\\Tp3-Integrador\\Trabajo_grupal_Integrador\\code\\notebooks\\..\\files\\data_eph\\usu_individual_T321.txt.txt. Se omitirá.\n"
     ]
    }
   ],
   "source": [
    "# Recargar modulo\n",
    "import importlib\n",
    "import src.dataset.generar_dataset as recarga\n",
    "importlib.reload(recarga)\n",
    "\n",
    "from src.dataset.generar_dataset import join_data\n",
    "join_data() \n",
    "# VER LOS ARCHIVOS EN DATA_OUT "
   ]
  },
  {
   "cell_type": "markdown",
   "id": "6806fcdf",
   "metadata": {},
   "source": [
    "Agregar columnas"
   ]
  },
  {
   "cell_type": "code",
   "execution_count": null,
   "id": "7730751b",
   "metadata": {},
   "outputs": [],
   "source": [
    "# Recargar modulo\n",
    "import importlib\n",
    "import src.dataset.agregar_columnas as recarga\n",
    "importlib.reload(recarga)\n",
    "\n",
    "from src.dataset.agregar_columnas import generar_columnas_individual, generar_columnas_hogar\n",
    "#generar_columnas_individual()\n",
    "#generar_columnas_individual()\n",
    "generar_columnas_hogar()"
   ]
  },
  {
   "cell_type": "markdown",
   "id": "568b517f",
   "metadata": {},
   "source": [
    "Agregar columnas MAS EFICIENTE (falta hogar)"
   ]
  },
  {
   "cell_type": "code",
   "execution_count": 5,
   "id": "d6cf6a94",
   "metadata": {},
   "outputs": [],
   "source": [
    "# Recargar modulo\n",
    "import importlib\n",
    "import src.dataset.agregar_columnas as recarga\n",
    "importlib.reload(recarga)\n",
    "\n",
    "from src.dataset.agregar_columnas import generar_columnas_csv_individual\n",
    "generar_columnas_csv_individual()\n",
    "# FALTA IMPLEMENTAR HOGAR"
   ]
  },
  {
   "cell_type": "markdown",
   "id": "8dc7717b",
   "metadata": {},
   "source": [
    "Procesar datasets individual"
   ]
  },
  {
   "cell_type": "code",
   "execution_count": null,
   "id": "5e7fde5e",
   "metadata": {},
   "outputs": [],
   "source": [
    "# Recargar modulo\n",
    "import importlib\n",
    "import src.dataset.consultar_dataset as recarga\n",
    "importlib.reload(recarga)\n",
    "\n",
    "from src.utils.constants import DATA_OUT_PATH\n",
    "import src.dataset.consultar_dataset as consultar\n",
    "\n",
    "path_archivo_individual = DATA_OUT_PATH / \"individual_process.csv\"\n",
    "\n",
    "print(\"-----------------Ejercicio 1B--------------\")\n",
    "consultar.alfabetismo_por_ano(path_archivo_individual)\n",
    "print()\n",
    "\n",
    "print('-----------------Ejercicio 2B---------------')\n",
    "consultar.extranjeros_con_estudios_universitarios(path_archivo_individual)\n",
    "print()\n",
    "\n",
    "print(\"-----------------Ejercicio 3B--------------\")\n",
    "consultar.ano_y_trimestre_menor_desocupacion_PB_EJ3(path_archivo_individual)\n",
    "print()\n",
    "\n",
    "print('-----------------Ejercicio 7B---------------')\n",
    "consultar.informar_nivel_universitario(path_archivo_individual)\n",
    "print()\n",
    "\n",
    "print(\"-----------------Ejercicio 9B--------------\")\n",
    "consultar.tabla_nivel_educativo_por_aglomerado_EJ_9B(path_archivo_individual)\n",
    "print()\n",
    "\n",
    "print(\"-----------------Ejercicio 10B--------------\")\n",
    "consultar.informar_tabla_porcentaje_10B(path_archivo_individual)\n",
    "print()"
   ]
  },
  {
   "cell_type": "markdown",
   "id": "59fae3b8",
   "metadata": {},
   "source": [
    "Procesar datasets individual"
   ]
  },
  {
   "cell_type": "code",
   "execution_count": null,
   "id": "295bf992",
   "metadata": {},
   "outputs": [
    {
     "name": "stdout",
     "output_type": "stream",
     "text": [
      "-----------------Ejercicio 4B---------------\n",
      "\n",
      "Error: cannot access local variable 'aglomerado' where it is not associated with a value\n"
     ]
    },
    {
     "data": {
      "text/plain": [
       "'print(\"-----------------Ejercicio 5B---------------\")\\nconsultar.informar_aglomerados_porcentajes_5B(path_archivo_hogar)\\nprint()\\n\\nprint(\"-----------------Ejercicio 6B----------------\")\\nconsultar.informar_aglomerado_punto6(path_archivo_hogar)\\nprint()\\n\\nprint(\"-----------------Ejercicio 8B---------------\")\\nconsultar.regiones_segun_porcentaje_inquilinos(path_archivo_hogar)\\nprint()\\n\\nprint(\"-----------------Ejercicio 11B---------------\")\\nconsultar.informar_aglomerados_punto11(path_archivo_hogar)\\nprint()\\n\\nprint(\"-----------------Ejercicio 12B---------------\")\\nconsultar.jubilados_condicion_habitabilidad_insuficiente(path_archivo_hogar, path_archivo_individual)\\nprint()\\n\\nprint(\"-----------------Ejercicio 13B---------------\")\\nconsultar.universitarios_en_viviendas_insuficientes(path_archivo_hogar, path_archivo_individual)\\nprint()'"
      ]
     },
     "execution_count": 10,
     "metadata": {},
     "output_type": "execute_result"
    }
   ],
   "source": [
    "# Recargar modulo\n",
    "import importlib\n",
    "import src.dataset.consultar_dataset as recarga\n",
    "importlib.reload(recarga)\n",
    "\n",
    "from src.utils.constants import DATA_OUT_PATH\n",
    "import src.dataset.consultar_dataset as consultar\n",
    "\n",
    "path_archivo_hogar = DATA_OUT_PATH / \"hogar_process.csv\"\n",
    "\n",
    "print(\"-----------------Ejercicio 4B---------------\")\n",
    "consultar.ranking_aglomerado_EJ4()\n",
    "\n",
    "\n",
    "print(\"-----------------Ejercicio 5B---------------\")\n",
    "\n",
    "consultar.informar_aglomerados_porcentajes_5B(path_archivo_hogar)\n",
    "print()\n",
    "\n",
    "print(\"-----------------Ejercicio 6B----------------\")\n",
    "consultar.informar_aglomerado_punto6(path_archivo_hogar)\n",
    "print()\n",
    "\n",
    "print(\"-----------------Ejercicio 8B---------------\")\n",
    "consultar.regiones_segun_porcentaje_inquilinos(path_archivo_hogar)\n",
    "print()\n",
    "\n",
    "print(\"-----------------Ejercicio 11B---------------\")\n",
    "consultar.informar_aglomerados_punto11(path_archivo_hogar)\n",
    "print()\n",
    "\n",
    "print(\"-----------------Ejercicio 12B---------------\")\n",
    "consultar.jubilados_condicion_habitabilidad_insuficiente(path_archivo_hogar, path_archivo_individual)\n",
    "print()\n",
    "\n",
    "print(\"-----------------Ejercicio 13B---------------\")\n",
    "consultar.universitarios_en_viviendas_insuficientes(path_archivo_hogar, path_archivo_individual)\n",
    "print()"
   ]
  },
  {
   "cell_type": "markdown",
   "id": "f878f046",
   "metadata": {},
   "source": [
    "## Analisis de datasets con pandas."
   ]
  },
  {
   "cell_type": "code",
   "execution_count": null,
   "id": "c443cfe0",
   "metadata": {},
   "outputs": [],
   "source": [
    "# una vez creados los archivos únicos\n",
    "import sys\n",
    "sys.path.append(\"..\") \n",
    "\n",
    "from src.utils.constants import DATA_OUT_PATH\n",
    "import pandas as pd\n",
    "\n",
    "file_route_ind = DATA_OUT_PATH / 'usu_individual.csv'\n",
    "\n",
    "# leo csv \n",
    "df = pd.read_csv(file_route_ind, delimiter=';', encoding='utf-8')\n"
   ]
  },
  {
   "cell_type": "code",
   "execution_count": null,
   "id": "809ffc0d",
   "metadata": {},
   "outputs": [],
   "source": [
    "df.info() # info general del dataset"
   ]
  },
  {
   "cell_type": "markdown",
   "id": "be2174f7",
   "metadata": {},
   "source": [
    "### Agregar columna"
   ]
  },
  {
   "cell_type": "code",
   "execution_count": null,
   "id": "317fddad",
   "metadata": {},
   "outputs": [],
   "source": [
    "# OPCION 1: aplicando .apply() a una columnas\n",
    "def convertir_sexo_a_str(itf):\n",
    "    itf = float(itf.replace(\",\", \".\")) if isinstance(itf, str) else itf\n",
    "        \n",
    "    return 'Masculino' if itf == 1 else 'Femenino'\n",
    "\n",
    "df['CH04_str'] = df['CH04'].apply(convertir_sexo_a_str)"
   ]
  },
  {
   "cell_type": "code",
   "execution_count": null,
   "id": "827e5fc7",
   "metadata": {},
   "outputs": [],
   "source": [
    "# OPCION 2: PARA MUCHOS DATOS\n",
    "import numpy as np\n",
    "\n",
    "df['CH04_str'] = np.where(df['CH04'].astype(int) == 1, 'Masculino', 'Femenino')"
   ]
  },
  {
   "cell_type": "code",
   "execution_count": null,
   "id": "ffc599e1",
   "metadata": {},
   "outputs": [],
   "source": [
    "df.head(3)"
   ]
  },
  {
   "cell_type": "markdown",
   "id": "9ff344a1",
   "metadata": {},
   "source": [
    "#### parte 1 seccion b punto 5. Informar para cada aglomerado el porcentaje de viviendas ocupadas por sus propietarios. (lo vuelvo a hacer)"
   ]
  },
  {
   "cell_type": "code",
   "execution_count": null,
   "id": "0be0320b",
   "metadata": {},
   "outputs": [],
   "source": [
    "# una vez creados los archivos únicos\n",
    "import sys\n",
    "sys.path.append(\"..\") \n",
    "\n",
    "from src.utils.constants import DATA_OUT_PATH, diccionario_aglomerados\n",
    "import pandas as pd"
   ]
  },
  {
   "cell_type": "code",
   "execution_count": null,
   "id": "a26e48ac",
   "metadata": {},
   "outputs": [],
   "source": [
    "def porcentaje_propietarios_por_aglomerado(df_parcial):\n",
    "    \"\"\"Informar para cada aglomerado el porcentaje de viviendas ocupadas por sus propietarios.\n",
    "    Recibe solo las columnas de interés.\"\"\"\n",
    "\n",
    "    # 2. Agrupar por aglomerado y sumar pondera total\n",
    "    total_por_aglomerado = df_parcial.groupby('AGLOMERADO')['PONDERA'].sum()\n",
    "\n",
    "    # 3. Filtrar solo los propietarios (II7 = 1 o 2) (las filas conpletas)\n",
    "    propietarios = df_parcial[df_parcial['II7'].isin([1, 2])]\n",
    "\n",
    "    # 4. Agrupar propietarios por aglomerado y sumar pondera\n",
    "    propietarios_por_aglomerado = propietarios.groupby('AGLOMERADO')['PONDERA'].sum()\n",
    "\n",
    "    # 5. Calcular porcentaje\n",
    "    porcentaje = (propietarios_por_aglomerado / total_por_aglomerado) * 100\n",
    "\n",
    "    # 6. Mostrar el resultado ordenado    \n",
    "    #print(porcentaje.sort_values(ascending=False)) # ordenado por valor(promedio) muestra el codigo y porcentaje\n",
    "    #muestra el nombre y porcentaje\n",
    "    for codigo, valor in porcentaje.sort_values(ascending=False).items():\n",
    "        nombre = diccionario_aglomerados.get(f\"{codigo:02}\", f\"Aglomerado {codigo}\") # el get(codigo, default) es por si no existe el codigo\n",
    "        print(f\"{nombre}: {valor:.2f}%\")\n"
   ]
  },
  {
   "cell_type": "code",
   "execution_count": null,
   "id": "c8620227",
   "metadata": {},
   "outputs": [],
   "source": [
    "file_route_hog = DATA_OUT_PATH / 'hogar_process.csv'\n",
    "\n",
    "# Cargar el dataset \n",
    "df = pd.read_csv(file_route_hog, sep=';')\n",
    "\n",
    "porcentaje_propietarios_por_aglomerado(df[['PONDERA', 'AGLOMERADO', 'II7']]) # le paso solo las columnas de interés"
   ]
  },
  {
   "cell_type": "code",
   "execution_count": null,
   "id": "a0c83c4f",
   "metadata": {},
   "outputs": [],
   "source": [
    "file_route_hog = DATA_OUT_PATH / 'individual_process.csv'\n",
    "\n",
    "# Cargar el dataset \n",
    "df = pd.read_csv(file_route_hog, sep=';')"
   ]
  },
  {
   "cell_type": "code",
   "execution_count": null,
   "id": "e48b6dbe",
   "metadata": {},
   "outputs": [],
   "source": [
    "df.CH06.unique()"
   ]
  }
 ],
 "metadata": {
  "kernelspec": {
   "display_name": "Python 3",
   "language": "python",
   "name": "python3"
  },
  "language_info": {
   "codemirror_mode": {
    "name": "ipython",
    "version": 3
   },
   "file_extension": ".py",
   "mimetype": "text/x-python",
   "name": "python",
   "nbconvert_exporter": "python",
   "pygments_lexer": "ipython3",
   "version": "3.12.9"
  }
 },
 "nbformat": 4,
 "nbformat_minor": 5
}
