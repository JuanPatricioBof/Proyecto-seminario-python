{
 "cells": [
  {
   "cell_type": "markdown",
   "id": "5556bb2f",
   "metadata": {},
   "source": [
    "# Procesar encuesta hogar"
   ]
  },
  {
   "cell_type": "markdown",
   "id": "8ecb5b72",
   "metadata": {},
   "source": [
    "#### Genero dataset unico"
   ]
  },
  {
   "cell_type": "code",
   "execution_count": 7,
   "id": "e3df4946",
   "metadata": {},
   "outputs": [
    {
     "name": "stdout",
     "output_type": "stream",
     "text": [
      "Procesando: usu_hogar_T324.txt\n",
      "Procesando: usu_hogar_T124.txt\n",
      "Procesando: usu_hogar_T323.txt\n",
      "Dataset único generado.\n"
     ]
    }
   ],
   "source": [
    "import sys \n",
    "sys.path.append(\"..\")\n",
    "import importlib\n",
    "#from src.dataset.generate_dataset import join_data\n",
    "import src.dataset.generate_dataset as join\n",
    "importlib.reload(join)\n",
    "join.join_data(\"hogar\") # unir los archivos"
   ]
  },
  {
   "cell_type": "markdown",
   "id": "056be170",
   "metadata": {},
   "source": [
    "#### Genero la ruta al archivo unico"
   ]
  },
  {
   "cell_type": "code",
   "execution_count": 8,
   "id": "d4375fc6",
   "metadata": {},
   "outputs": [],
   "source": [
    "from src.utils.constants import DATA_OUT_PATH\n",
    "\n",
    "path_hogar = DATA_OUT_PATH / \"usu_hogar.csv\" # path al archivo único"
   ]
  },
  {
   "cell_type": "markdown",
   "id": "7569f68b",
   "metadata": {},
   "source": [
    "# Sección A"
   ]
  },
  {
   "cell_type": "markdown",
   "id": "d6f53ea0",
   "metadata": {},
   "source": [
    "#### Genero nuevas columnas"
   ]
  },
  {
   "cell_type": "code",
   "execution_count": 9,
   "id": "7d8e19e9",
   "metadata": {},
   "outputs": [
    {
     "name": "stdout",
     "output_type": "stream",
     "text": [
      "✅ Se agregó la columna tipo_hogar con valores traducidos.\n",
      "✅ Se agregó la columna material_techumbre con valores traducidos.\n"
     ]
    }
   ],
   "source": [
    "#LLAMAR UNA A UNA A LAS FUNCIONES QUE AGREGAN NUEVAS COLUMNAS\n",
    "import importlib\n",
    "import src.dataset.generate_dataset as generate\n",
    "importlib.reload(generate)\n",
    "\n",
    "generate.generar_columnas_hogar()# llamar a la función que agrega la columna tipo_hogar y  material_techumbre"
   ]
  },
  {
   "cell_type": "code",
   "execution_count": 10,
   "id": "6a55f113",
   "metadata": {},
   "outputs": [],
   "source": [
    "from src.utils.constants import DATA_OUT_PATH\n",
    "\n",
    "path_procesado = DATA_OUT_PATH / \"hogar_process.csv\""
   ]
  },
  {
   "cell_type": "markdown",
   "id": "d30a4185",
   "metadata": {},
   "source": [
    "#### Imprimo el encabezado para chequear"
   ]
  },
  {
   "cell_type": "code",
   "execution_count": 11,
   "id": "e99639b8",
   "metadata": {},
   "outputs": [
    {
     "name": "stdout",
     "output_type": "stream",
     "text": [
      "['CODUSU', 'ANO4', 'TRIMESTRE', 'NRO_HOGAR', 'REALIZADA', 'REGION', 'MAS_500', 'AGLOMERADO', 'PONDERA', 'IV1', 'IV1_ESP', 'IV2', 'IV3', 'IV3_ESP', 'IV4', 'IV5', 'IV6', 'IV7', 'IV7_ESP', 'IV8', 'IV9', 'IV10', 'IV11', 'IV12_1', 'IV12_2', 'IV12_3', 'II1', 'II2', 'II3', 'II3_1', 'II4_1', 'II4_2', 'II4_3', 'II5', 'II5_1', 'II6', 'II6_1', 'II7', 'II7_ESP', 'II8', 'II8_ESP', 'II9', 'V1', 'V2', 'V21', 'V22', 'V3', 'V4', 'V5', 'V6', 'V7', 'V8', 'V9', 'V10', 'V11', 'V12', 'V13', 'V14', 'V15', 'V16', 'V17', 'V18', 'V19_A', 'V19_B', 'IX_TOT', 'IX_MEN10', 'IX_MAYEQ10', 'ITF', 'DECIFR', 'IDECIFR', 'RDECIFR', 'GDECIFR', 'PDECIFR', 'ADECIFR', 'IPCF', 'DECCFR', 'IDECCFR', 'RDECCFR', 'GDECCFR', 'PDECCFR', 'ADECCFR', 'PONDIH', 'VII1_1', 'VII1_2', 'VII2_1', 'VII2_2', 'VII2_3', 'VII2_4', 'tipo_hogar', 'material_techumbre']\n",
      "['TQRMNOQVSHMMLOCDEFJAH00808791', '2024', '3', '1', '1', '43', 'N', '3', '228', '1', '', '5', '1', '', '2', '1', '1', '1', '', '1', '1', '1', '1', '2', '2', '2', '5', '4', '2', '0', '1', '1', '1', '2', '0', '2', '0', '1', '', '1', '', '1', '1', '2', '2', '2', '2', '2', '2', '2', '2', '2', '2', '2', '2', '2', '1', '2', '2', '1', '2', '2', '2', '2', '1', '0', '1', '975000', '6', '6', '6', '', '6', '5', '975000', '9', '10', '9', '', '10', '9', '366', '1', '0', '98', '0', '0', '0', 'Unipersonal', 'Material durable']\n"
     ]
    }
   ],
   "source": [
    "import csv\n",
    "\n",
    "with path_procesado.open('r',encoding='utf-8') as hogar_csv:\n",
    "    csv_reader = csv.reader(hogar_csv, delimiter=';')\n",
    "    header,data = next(csv_reader),list(csv_reader)\n",
    "    print(header)\n",
    "    print(data[0])"
   ]
  },
  {
   "cell_type": "markdown",
   "id": "2633a355",
   "metadata": {},
   "source": [
    "# Sección B"
   ]
  },
  {
   "cell_type": "code",
   "execution_count": 12,
   "id": "2aae6ddd",
   "metadata": {},
   "outputs": [
    {
     "name": "stdout",
     "output_type": "stream",
     "text": [
      "-----------------Ejercicio 5B---------------\n",
      "De cada aglomerado el porcentaje de viviendas ocupadas por el propietario\n",
      "Gran La Plata: 65.13%\n",
      "Bahía Blanca - Cerri: 63.11%\n",
      "Gran Rosario: 67.65%\n",
      "Gran Santa Fé: 71.97%\n",
      "Gran Paraná: 72.11%\n",
      "Posadas: 69.91%\n",
      "Gran Resistencia: 80.16%\n",
      "Comodoro Rivadavia - Rada Tilly: 64.29%\n",
      "Gran Mendoza: 59.69%\n",
      "Corrientes: 69.6%\n",
      "Gran Córdoba: 49.97%\n",
      "Concordia: 74.69%\n",
      "Formosa: 77.31%\n",
      "Neuquén - Plottier: 66.54%\n",
      "Santiago del Estero - La Banda: 85.16%\n",
      "Jujuy - Palpalá: 79.89%\n",
      "Río Gallegos: 51.21%\n",
      "Gran Catamarca: 83.66%\n",
      "Gran Salta: 67.53%\n",
      "La Rioja: 73.11%\n",
      "Gran San Luis: 63.56%\n",
      "Gran San Juan: 64.55%\n",
      "Gran Tucumán - Tafí Viejo: 67.39%\n",
      "Santa Rosa - Toay: 59.7%\n",
      "Ushuaia - Río Grande: 52.78%\n",
      "Ciudad Autónoma de Buenos Aires: 53.71%\n",
      "Partidos del GBA: 71.22%\n",
      "Mar del Plata: 69.58%\n",
      "Río Cuarto: 58.19%\n",
      "San Nicolás - Villa Constitución: 71.87%\n",
      "Rawson - Trelew: 65.34%\n",
      "Viedma- Carmen de Patagones: 66.35%\n",
      "\n",
      "-----------------Ejercicio 6B---------------\n",
      "El aglomerado con mayor cantidad de viviendas sin baño y más de dos ocupantes es:Partidos del GBA(33) con 27223 viviendas.\n",
      "\n",
      "-----------------Ejercicio 11B---------------\n",
      "\n",
      "Trimestre analizado: 3 del año 2024\n",
      "El aglomerado con mayor porcentaje de viviendas de material precario es Gran San Juan con : (14.28%)\n",
      "El aglomerado con menor porcentaje de viviendas de material precario es Ciudad Autónoma de Buenos Aires con : (0.00%)\n",
      "\n"
     ]
    }
   ],
   "source": [
    "import importlib\n",
    "import src.dataset.process_dataset_a as process_a\n",
    "import src.dataset.process_dataset_b as process_b\n",
    "importlib.reload(process_a)\n",
    "importlib.reload(process_b)\n",
    "\n",
    "print(\"-----------------Ejercicio 5B---------------\")\n",
    "process_a.informar_aglomerados_porcentajes_5B(path_procesado)\n",
    "print()\n",
    "print(\"-----------------Ejercicio 6B---------------\")\n",
    "process_a.informar_aglomerado_punto6(path_procesado)\n",
    "print()\n",
    "print(\"-----------------Ejercicio 11B---------------\")\n",
    "process_b.informar_aglomerados_punto11(path_procesado)\n",
    "print()"
   ]
  }
 ],
 "metadata": {
  "kernelspec": {
   "display_name": "Python 3",
   "language": "python",
   "name": "python3"
  },
  "language_info": {
   "codemirror_mode": {
    "name": "ipython",
    "version": 3
   },
   "file_extension": ".py",
   "mimetype": "text/x-python",
   "name": "python",
   "nbconvert_exporter": "python",
   "pygments_lexer": "ipython3",
   "version": "3.12.9"
  }
 },
 "nbformat": 4,
 "nbformat_minor": 5
}
