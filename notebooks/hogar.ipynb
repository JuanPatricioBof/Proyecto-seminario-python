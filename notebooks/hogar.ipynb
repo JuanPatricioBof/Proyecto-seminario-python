{
 "cells": [
  {
   "cell_type": "markdown",
   "id": "5556bb2f",
   "metadata": {},
   "source": [
    "# Procesar encuesta hogar"
   ]
  },
  {
   "cell_type": "markdown",
   "id": "8ecb5b72",
   "metadata": {},
   "source": [
    "#### Genero dataset unico"
   ]
  },
  {
   "cell_type": "code",
   "execution_count": null,
   "id": "e3df4946",
   "metadata": {},
   "outputs": [],
   "source": [
    "import sys \n",
    "sys.path.append(\"..\")\n",
    "import importlib\n",
    "#from src.dataset.generate_dataset import join_data\n",
    "import src.dataset.generate_dataset as join\n",
    "importlib.reload(join)\n",
    "join.join_data(\"hogar\") # unir los archivos"
   ]
  },
  {
   "cell_type": "markdown",
   "id": "056be170",
   "metadata": {},
   "source": [
    "#### Genero la ruta al archivo unico"
   ]
  },
  {
   "cell_type": "code",
   "execution_count": 2,
   "id": "d4375fc6",
   "metadata": {},
   "outputs": [],
   "source": [
    "from src.utils.constants import DATA_OUT_PATH\n",
    "\n",
    "path_hogar = DATA_OUT_PATH / \"usu_hogar.csv\" # path al archivo único"
   ]
  },
  {
   "cell_type": "markdown",
   "id": "7569f68b",
   "metadata": {},
   "source": [
    "# Sección A"
   ]
  },
  {
   "cell_type": "markdown",
   "id": "d6f53ea0",
   "metadata": {},
   "source": [
    "#### Genero nuevas columnas"
   ]
  },
  {
   "cell_type": "code",
   "execution_count": 3,
   "id": "7d8e19e9",
   "metadata": {},
   "outputs": [
    {
     "name": "stdout",
     "output_type": "stream",
     "text": [
      "✅ Se agregó la columna tipo_hogar con valores traducidos.\n",
      "✅ Se agregó la columna material_techumbre con valores traducidos.\n",
      "✅ Se agregó la columna DENSIDAD_HOGAR\n",
      "✅ Se agregó la columna CONDICION_DE_HABITABILIDAD.\n"
     ]
    }
   ],
   "source": [
    "#LLAMAR UNA A UNA A LAS FUNCIONES QUE AGREGAN NUEVAS COLUMNAS\n",
    "import importlib\n",
    "import src.dataset.generate_dataset as generate\n",
    "importlib.reload(generate)\n",
    "\n",
    "generate.generar_columnas_hogar()# llamar a la función que agrega la columna tipo_hogar y  material_techumbre"
   ]
  },
  {
   "cell_type": "code",
   "execution_count": 4,
   "id": "6a55f113",
   "metadata": {},
   "outputs": [],
   "source": [
    "from src.utils.constants import DATA_OUT_PATH\n",
    "\n",
    "path_procesado = DATA_OUT_PATH / \"hogar_process.csv\""
   ]
  },
  {
   "cell_type": "markdown",
   "id": "d30a4185",
   "metadata": {},
   "source": [
    "#### Imprimo el encabezado para chequear"
   ]
  },
  {
   "cell_type": "code",
   "execution_count": 5,
   "id": "e99639b8",
   "metadata": {},
   "outputs": [
    {
     "name": "stdout",
     "output_type": "stream",
     "text": [
      "['CODUSU', 'ANO4', 'TRIMESTRE', 'NRO_HOGAR', 'REALIZADA', 'REGION', 'MAS_500', 'AGLOMERADO', 'PONDERA', 'IV1', 'IV1_ESP', 'IV2', 'IV3', 'IV3_ESP', 'IV4', 'IV5', 'IV6', 'IV7', 'IV7_ESP', 'IV8', 'IV9', 'IV10', 'IV11', 'IV12_1', 'IV12_2', 'IV12_3', 'II1', 'II2', 'II3', 'II3_1', 'II4_1', 'II4_2', 'II4_3', 'II5', 'II5_1', 'II6', 'II6_1', 'II7', 'II7_ESP', 'II8', 'II8_ESP', 'II9', 'V1', 'V2', 'V21', 'V22', 'V3', 'V4', 'V5', 'V6', 'V7', 'V8', 'V9', 'V10', 'V11', 'V12', 'V13', 'V14', 'V15', 'V16', 'V17', 'V18', 'V19_A', 'V19_B', 'IX_TOT', 'IX_MEN10', 'IX_MAYEQ10', 'ITF', 'DECIFR', 'IDECIFR', 'RDECIFR', 'GDECIFR', 'PDECIFR', 'ADECIFR', 'IPCF', 'DECCFR', 'IDECCFR', 'RDECCFR', 'GDECCFR', 'PDECCFR', 'ADECCFR', 'PONDIH', 'VII1_1', 'VII1_2', 'VII2_1', 'VII2_2', 'VII2_3', 'VII2_4', 'tipo_hogar', 'material_techumbre', 'DENSIDAD_HOGAR', 'CONDICION_DE_HABITABILIDAD']\n",
      "['TQRMNOQVSHMMLOCDEFJAH00808791', '2024', '3', '1', '1', '43', 'N', '3', '228', '1', '', '5', '1', '', '2', '1', '1', '1', '', '1', '1', '1', '1', '2', '2', '2', '5', '4', '2', '0', '1', '1', '1', '2', '0', '2', '0', '1', '', '1', '', '1', '1', '2', '2', '2', '2', '2', '2', '2', '2', '2', '2', '2', '2', '2', '1', '2', '2', '1', '2', '2', '2', '2', '1', '0', '1', '975000', '6', '6', '6', '', '6', '5', '975000', '9', '10', '9', '', '10', '9', '366', '1', '0', '98', '0', '0', '0', 'Unipersonal', 'Material durable', 'Bajo', 'buena']\n"
     ]
    }
   ],
   "source": [
    "import csv\n",
    "\n",
    "with path_procesado.open('r',encoding='utf-8') as hogar_csv:\n",
    "    csv_reader = csv.reader(hogar_csv, delimiter=';')\n",
    "    header,data = next(csv_reader),list(csv_reader)\n",
    "    print(header)\n",
    "    print(data[0])"
   ]
  },
  {
   "cell_type": "markdown",
   "id": "2633a355",
   "metadata": {},
   "source": [
    "# Sección B"
   ]
  },
  {
   "cell_type": "code",
   "execution_count": 8,
   "id": "2aae6ddd",
   "metadata": {},
   "outputs": [
    {
     "name": "stdout",
     "output_type": "stream",
     "text": [
      "-----------------Ejercicio 4B---------------\n",
      "Top 5 aglomerados con mayor porcentaje de hogares con ≥2 universitarios completos:\n",
      "\n",
      "Ciudad Autónoma de Buenos Aires: 38.34%\n",
      "Jujuy - Palpalá: 28.36%\n",
      "Gran Catamarca: 28.20%\n",
      "Gran Mendoza: 26.82%\n",
      "Corrientes: 25.91%\n",
      "-----------------Ejercicio 5B---------------\n",
      "De cada aglomerado el porcentaje de viviendas ocupadas por el propietario\n",
      "Gran La Plata: 67.06%\n",
      "Bahía Blanca - Cerri: 62.64%\n",
      "Gran Rosario: 67.17%\n",
      "Gran Santa Fé: 71.64%\n",
      "Gran Paraná: 68.13%\n",
      "Posadas: 71.25%\n",
      "Gran Resistencia: 80.55%\n",
      "Comodoro Rivadavia - Rada Tilly: 65.98%\n",
      "Gran Mendoza: 60.49%\n",
      "Corrientes: 70.82%\n",
      "Gran Córdoba: 52.74%\n",
      "Concordia: 76.72%\n",
      "Formosa: 78.23%\n",
      "Neuquén - Plottier: 66.31%\n",
      "Santiago del Estero - La Banda: 85.31%\n",
      "Jujuy - Palpalá: 78.12%\n",
      "Río Gallegos: 52.69%\n",
      "Gran Catamarca: 82.74%\n",
      "Gran Salta: 66.79%\n",
      "La Rioja: 72.09%\n",
      "Gran San Luis: 64.68%\n",
      "Gran San Juan: 66.03%\n",
      "Gran Tucumán - Tafí Viejo: 69.1%\n",
      "Santa Rosa - Toay: 59.83%\n",
      "Ushuaia - Río Grande: 53.09%\n",
      "Ciudad Autónoma de Buenos Aires: 54.2%\n",
      "Partidos del GBA: 71.67%\n",
      "Mar del Plata: 69.97%\n",
      "Río Cuarto: 57.48%\n",
      "San Nicolás - Villa Constitución: 71.95%\n",
      "Rawson - Trelew: 65.07%\n",
      "Viedma- Carmen de Patagones: 67.25%\n",
      "\n",
      "-----------------Ejercicio 6B----------------\n",
      "El aglomerado con mayor cantidad de viviendas sin baño y más de dos ocupantes es:Partidos del GBA(33) con 30409 viviendas.\n",
      "\n",
      "-----------------Ejercicio 8B---------------\n",
      "Regiones en orden según % de inquilinos\n",
      "Patagonia. (26.92879010936951%)\n",
      "Pampeana. (25.146349284536207%)\n",
      "Cuyo. (22.847819115783384%)\n",
      "Gran Buenos Aires. (20.537235367037724%)\n",
      "Noreste. (16.407585846400615%)\n",
      "Noroeste. (14.570008194691331%)\n",
      "\n",
      "-----------------Ejercicio 11B---------------\n",
      "\n",
      "Trimestre analizado: 3 del año 2024\n",
      "Porcentaje de viviendas con material precario por aglomerado:\n",
      "  - Gran San Juan: 14.28%\n",
      "  - San Nicolás - Villa Constitución: 7.55%\n",
      "  - Concordia: 5.74%\n",
      "  - Río Gallegos: 4.01%\n",
      "  - Mar del Plata: 3.24%\n",
      "  - Santa Rosa - Toay: 2.87%\n",
      "  - Gran Catamarca: 2.14%\n",
      "  - Corrientes: 1.26%\n",
      "  - Formosa: 1.21%\n",
      "  - La Rioja: 1.18%\n",
      "  - Partidos del GBA: 0.98%\n",
      "  - Neuquén - Plottier: 0.96%\n",
      "  - Gran Mendoza: 0.92%\n",
      "  - Gran Tucumán - Tafí Viejo: 0.83%\n",
      "  - Gran Salta: 0.80%\n",
      "  - Gran Córdoba: 0.74%\n",
      "  - Viedma- Carmen de Patagones: 0.45%\n",
      "  - Río Cuarto: 0.42%\n",
      "  - Rawson - Trelew: 0.34%\n",
      "  - Gran San Luis: 0.34%\n",
      "  - Santiago del Estero - La Banda: 0.23%\n",
      "  - Ciudad Autónoma de Buenos Aires: 0.00%\n",
      "  - Jujuy - Palpalá: 0.00%\n",
      "  - Ushuaia - Río Grande: 0.00%\n",
      "\n",
      "El aglomerado con mayor porcentaje es Gran San Juan (14.28%)\n",
      "El aglomerado con menor porcentaje es Ciudad Autónoma de Buenos Aires (0.00%)\n",
      "\n",
      "-----------------Ejercicio 12B---------------\n",
      "Porcentaje de jubilados con condicion de habitabilidad insuficiente según región (año: 2024, trimestre: 3)\n",
      "Gran La Plata: sin datos\n",
      "Bahía Blanca - Cerri: sin datos\n",
      "Gran Rosario: sin datos\n",
      "Gran Santa Fé: sin datos\n",
      "Gran Paraná: sin datos\n",
      "Posadas: sin datos\n",
      "Gran Resistencia: sin datos\n",
      "Comodoro Rivadavia - Rada Tilly: sin datos\n",
      "Gran Mendoza: 0.0%\n",
      "Corrientes: 1.4375754811355472%\n",
      "Gran Córdoba: 2.4808724920949796%\n",
      "Concordia: 0.0%\n",
      "Formosa: 0.0%\n",
      "Neuquén - Plottier: 0.0%\n",
      "Santiago del Estero - La Banda: 0.0%\n",
      "Jujuy - Palpalá: 0.0%\n",
      "Río Gallegos: 0.0%\n",
      "Gran Catamarca: 0.0%\n",
      "Gran Salta: 0.0%\n",
      "La Rioja: 0.0%\n",
      "Gran San Luis: 0.0%\n",
      "Gran San Juan: 0.0%\n",
      "Gran Tucumán - Tafí Viejo: 0.0%\n",
      "Santa Rosa - Toay: 0.0%\n",
      "Ushuaia - Río Grande: 0.0%\n",
      "Ciudad Autónoma de Buenos Aires: 0.0%\n",
      "Partidos del GBA: 0.5256314059244228%\n",
      "Mar del Plata: 0.0%\n",
      "Río Cuarto: 0.0%\n",
      "San Nicolás - Villa Constitución: 0.0%\n",
      "Rawson - Trelew: 0.0%\n",
      "Viedma- Carmen de Patagones: 0.0%\n",
      "\n",
      "-----------------Ejercicio 13B---------------\n",
      "\n",
      "Año 2024 - Trimestre 3:\n",
      "Cantidad de personas con nivel universitario o superior en viviendas  con condición insuficiente: 10\n",
      "\n"
     ]
    }
   ],
   "source": [
    "import importlib\n",
    "import src.dataset.process_dataset_a as process_a\n",
    "import src.dataset.process_dataset_b as process_b\n",
    "importlib.reload(process_a)\n",
    "importlib.reload(process_b)\n",
    "print(\"-----------------Ejercicio 4B---------------\")\n",
    "process_a.ranking_aglomerado_EJ4(DATA_OUT_PATH)\n",
    "print(\"-----------------Ejercicio 5B---------------\")\n",
    "process_a.informar_aglomerados_porcentajes_5B(path_procesado)\n",
    "print()\n",
    "print(\"-----------------Ejercicio 6B----------------\")\n",
    "process_a.informar_aglomerado_punto6(path_procesado)\n",
    "print()\n",
    "print(\"-----------------Ejercicio 8B---------------\")\n",
    "process_b.regiones_segun_porcentaje_inquilinos(path_procesado)\n",
    "print()\n",
    "print(\"-----------------Ejercicio 11B---------------\")\n",
    "process_b.informar_aglomerados_punto11(path_procesado)\n",
    "print()\n",
    "print(\"-----------------Ejercicio 12B---------------\")\n",
    "process_b.jubilados_condicion_habitabilidad_insuficiente(DATA_OUT_PATH)\n",
    "print()\n",
    "print(\"-----------------Ejercicio 13B---------------\")\n",
    "process_b.universitarios_en_viviendas_insuficientes(DATA_OUT_PATH)\n",
    "print()"
   ]
  }
 ],
 "metadata": {
  "kernelspec": {
   "display_name": ".venv",
   "language": "python",
   "name": "python3"
  },
  "language_info": {
   "codemirror_mode": {
    "name": "ipython",
    "version": 3
   },
   "file_extension": ".py",
   "mimetype": "text/x-python",
   "name": "python",
   "nbconvert_exporter": "python",
   "pygments_lexer": "ipython3",
   "version": "3.12.3"
  }
 },
 "nbformat": 4,
 "nbformat_minor": 5
}
