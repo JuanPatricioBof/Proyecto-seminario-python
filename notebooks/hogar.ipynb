{
 "cells": [
  {
   "cell_type": "markdown",
   "id": "5556bb2f",
   "metadata": {},
   "source": [
    "# Procesar encuesta hogar"
   ]
  },
  {
   "cell_type": "markdown",
   "id": "8ecb5b72",
   "metadata": {},
   "source": [
    "#### Genero dataset unico"
   ]
  },
  {
   "cell_type": "code",
   "execution_count": 4,
   "id": "e3df4946",
   "metadata": {},
   "outputs": [
    {
     "name": "stdout",
     "output_type": "stream",
     "text": [
      "Header esperado: ['CODUSU', 'ANO4', 'TRIMESTRE', 'NRO_HOGAR', 'REALIZADA', 'REGION', 'MAS_500', 'AGLOMERADO', 'PONDERA', 'IV1', 'IV1_ESP', 'IV2', 'IV3', 'IV3_ESP', 'IV4', 'IV5', 'IV6', 'IV7', 'IV7_ESP', 'IV8', 'IV9', 'IV10', 'IV11', 'IV12_1', 'IV12_2', 'IV12_3', 'II1', 'II2', 'II3', 'II3_1', 'II4_1', 'II4_2', 'II4_3', 'II5', 'II5_1', 'II6', 'II6_1', 'II7', 'II7_ESP', 'II8', 'II8_ESP', 'II9', 'V1', 'V2', 'V21', 'V22', 'V3', 'V4', 'V5', 'V6', 'V7', 'V8', 'V9', 'V10', 'V11', 'V12', 'V13', 'V14', 'V15', 'V16', 'V17', 'V18', 'V19_A', 'V19_B', 'IX_TOT', 'IX_MEN10', 'IX_MAYEQ10', 'ITF', 'DECIFR', 'IDECIFR', 'RDECIFR', 'GDECIFR', 'PDECIFR', 'ADECIFR', 'IPCF', 'DECCFR', 'IDECCFR', 'RDECCFR', 'GDECCFR', 'PDECCFR', 'ADECCFR', 'PONDIH', 'VII1_1', 'VII1_2', 'VII2_1', 'VII2_2', 'VII2_3', 'VII2_4']\n",
      "Header encontrado: ['CODUSU', 'ANO4', 'TRIMESTRE', 'NRO_HOGAR', 'REALIZADA', 'REGION', 'MAS_500', 'AGLOMERADO', 'PONDERA', 'IV1', 'IV1_ESP', 'IV2', 'IV3', 'IV3_ESP', 'IV4', 'IV5', 'IV6', 'IV7', 'IV7_ESP', 'IV8', 'IV9', 'IV10', 'IV11', 'IV12_1', 'IV12_2', 'IV12_3', 'II1', 'II2', 'II3', 'II3_1', 'II4_1', 'II4_2', 'II4_3', 'II5', 'II5_1', 'II6', 'II6_1', 'II7', 'II7_ESP', 'II8', 'II8_ESP', 'II9', 'V1', 'V2', 'V21', 'V22', 'V3', 'V4', 'V5', 'V6', 'V7', 'V8', 'V9', 'V10', 'V11', 'V12', 'V13', 'V14', 'V15', 'V16', 'V17', 'V18', 'V19_A', 'V19_B', 'IX_TOT', 'IX_MEN10', 'IX_MAYEQ10', 'ITF', 'DECIFR', 'IDECIFR', 'RDECIFR', 'GDECIFR', 'PDECIFR', 'ADECIFR', 'IPCF', 'DECCFR', 'IDECCFR', 'RDECCFR', 'GDECCFR', 'PDECCFR', 'ADECCFR', 'PONDIH', 'VII1_1', 'VII1_2', 'VII2_1', 'VII2_2', 'VII2_3', 'VII2_4', '']\n",
      "¡Error! Header inconsistentes en c:\\Users\\juanp\\FACULTAD\\Sem_Python\\Tp3-Integrador\\Trabajo_grupal_Integrador\\code\\notebooks\\..\\files\\data_eph\\usu_hogar_T321.txt.txt. Se omitirá.\n",
      "Header esperado: ['CODUSU', 'ANO4', 'TRIMESTRE', 'NRO_HOGAR', 'COMPONENTE', 'H15', 'REGION', 'MAS_500', 'AGLOMERADO', 'PONDERA', 'CH03', 'CH04', 'CH05', 'CH06', 'CH07', 'CH08', 'CH09', 'CH10', 'CH11', 'CH12', 'CH13', 'CH14', 'CH15', 'CH15_COD', 'CH16', 'CH16_COD', 'NIVEL_ED', 'ESTADO', 'CAT_OCUP', 'CAT_INAC', 'IMPUTA', 'PP02C1', 'PP02C2', 'PP02C3', 'PP02C4', 'PP02C5', 'PP02C6', 'PP02C7', 'PP02C8', 'PP02E', 'PP02H', 'PP02I', 'PP03C', 'PP03D', 'PP3E_TOT', 'PP3F_TOT', 'PP03G', 'PP03H', 'PP03I', 'PP03J', 'INTENSI', 'PP04A', 'PP04B_COD', 'PP04B1', 'PP04B2', 'PP04B3_MES', 'PP04B3_ANO', 'PP04B3_DIA', 'PP04C', 'PP04C99', 'PP04D_COD', 'PP04G', 'PP05B2_MES', 'PP05B2_ANO', 'PP05B2_DIA', 'PP05C_1', 'PP05C_2', 'PP05C_3', 'PP05E', 'PP05F', 'PP05H', 'PP06A', 'PP06C', 'PP06D', 'PP06E', 'PP06H', 'PP07A', 'PP07C', 'PP07D', 'PP07E', 'PP07F1', 'PP07F2', 'PP07F3', 'PP07F4', 'PP07F5', 'PP07G1', 'PP07G2', 'PP07G3', 'PP07G4', 'PP07G_59', 'PP07H', 'PP07I', 'PP07J', 'PP07K', 'PP08D1', 'PP08D4', 'PP08F1', 'PP08F2', 'PP08J1', 'PP08J2', 'PP08J3', 'PP09A', 'PP09A_ESP', 'PP09B', 'PP09C', 'PP09C_ESP', 'PP10A', 'PP10C', 'PP10D', 'PP10E', 'PP11A', 'PP11B_COD', 'PP11B1', 'PP11B2_MES', 'PP11B2_ANO', 'PP11B2_DIA', 'PP11C', 'PP11C99', 'PP11D_COD', 'PP11G_ANO', 'PP11G_MES', 'PP11G_DIA', 'PP11L', 'PP11L1', 'PP11M', 'PP11N', 'PP11O', 'PP11P', 'PP11Q', 'PP11R', 'PP11S', 'PP11T', 'P21', 'DECOCUR', 'IDECOCUR', 'RDECOCUR', 'GDECOCUR', 'PDECOCUR', 'ADECOCUR', 'PONDIIO', 'TOT_P12', 'P47T', 'DECINDR', 'IDECINDR', 'RDECINDR', 'GDECINDR', 'PDECINDR', 'ADECINDR', 'PONDII', 'V2_M', 'V3_M', 'V4_M', 'V5_M', 'V8_M', 'V9_M', 'V10_M', 'V11_M', 'V12_M', 'V18_M', 'V19_AM', 'V21_M', 'T_VI', 'ITF', 'DECIFR', 'IDECIFR', 'RDECIFR', 'GDECIFR', 'PDECIFR', 'ADECIFR', 'IPCF', 'DECCFR', 'IDECCFR', 'RDECCFR', 'GDECCFR', 'PDECCFR', 'ADECCFR', 'PONDIH']\n",
      "Header encontrado: ['CODUSU', 'ANO4', 'TRIMESTRE', 'NRO_HOGAR', 'COMPONENTE', 'H15', 'REGION', 'MAS_500', 'AGLOMERADO', 'PONDERA', 'CH03', 'CH04', 'CH05', 'CH06', 'CH07', 'CH08', 'CH09', 'CH10', 'CH11', 'CH12', 'CH13', 'CH14', 'CH15', 'CH15_COD', 'CH16', 'CH16_COD', 'NIVEL_ED', 'ESTADO', 'CAT_OCUP', 'CAT_INAC', 'IMPUTA', 'PP02C1', 'PP02C2', 'PP02C3', 'PP02C4', 'PP02C5', 'PP02C6', 'PP02C7', 'PP02C8', 'PP02E', 'PP02H', 'PP02I', 'PP03C', 'PP03D', 'PP3E_TOT', 'PP3F_TOT', 'PP03G', 'PP03H', 'PP03I', 'PP03J', 'INTENSI', 'PP04A', 'PP04B_COD', 'PP04B1', 'PP04B2', 'PP04B3_MES', 'PP04B3_ANO', 'PP04B3_DIA', 'PP04C', 'PP04C99', 'PP04D_COD', 'PP04G', 'PP05B2_MES', 'PP05B2_ANO', 'PP05B2_DIA', 'PP05C_1', 'PP05C_2', 'PP05C_3', 'PP05E', 'PP05F', 'PP05H', 'PP06A', 'PP06C', 'PP06D', 'PP06E', 'PP06H', 'PP07A', 'PP07C', 'PP07D', 'PP07E', 'PP07F1', 'PP07F2', 'PP07F3', 'PP07F4', 'PP07F5', 'PP07G1', 'PP07G2', 'PP07G3', 'PP07G4', 'PP07G_59', 'PP07H', 'PP07I', 'PP07J', 'PP07K', 'PP08D1', 'PP08D4', 'PP08F1', 'PP08F2', 'PP08J1', 'PP08J2', 'PP08J3', 'PP09A', 'PP09A_ESP', 'PP09B', 'PP09C', 'PP09C_ESP', 'PP10A', 'PP10C', 'PP10D', 'PP10E', 'PP11A', 'PP11B_COD', 'PP11B1', 'PP11B2_MES', 'PP11B2_ANO', 'PP11B2_DIA', 'PP11C', 'PP11C99', 'PP11D_COD', 'PP11G_ANO', 'PP11G_MES', 'PP11G_DIA', 'PP11L', 'PP11L1', 'PP11M', 'PP11N', 'PP11O', 'PP11P', 'PP11Q', 'PP11R', 'PP11S', 'PP11T', 'P21', 'DECOCUR', 'IDECOCUR', 'RDECOCUR', 'GDECOCUR', 'PDECOCUR', 'ADECOCUR', 'PONDIIO', 'TOT_P12', 'P47T', 'DECINDR', 'IDECINDR', 'RDECINDR', 'GDECINDR', 'PDECINDR', 'ADECINDR', 'PONDII', 'V2_M', 'V3_M', 'V4_M', 'V5_M', 'V8_M', 'V9_M', 'V10_M', 'V11_M', 'V12_M', 'V18_M', 'V19_AM', 'V21_M', 'T_VI', 'ITF', 'DECIFR', 'IDECIFR', 'RDECIFR', 'GDECIFR', 'PDECIFR', 'ADECIFR', 'IPCF', 'DECCFR', 'IDECCFR', 'RDECCFR', 'GDECCFR', 'PDECCFR', 'ADECCFR', 'PONDIH', '']\n",
      "¡Error! Header inconsistentes en c:\\Users\\juanp\\FACULTAD\\Sem_Python\\Tp3-Integrador\\Trabajo_grupal_Integrador\\code\\notebooks\\..\\files\\data_eph\\usu_individual_T321.txt.txt. Se omitirá.\n"
     ]
    }
   ],
   "source": [
    "import sys \n",
    "sys.path.append(\"..\")\n",
    "\n",
    "import importlib\n",
    "import src.dataset.generar_dataset as join\n",
    "importlib.reload(join)\n",
    "\n",
    "join.join_data() # unir los archivos"
   ]
  },
  {
   "cell_type": "markdown",
   "id": "056be170",
   "metadata": {},
   "source": [
    "#### Genero la ruta al archivo unico"
   ]
  },
  {
   "cell_type": "code",
   "execution_count": 5,
   "id": "d4375fc6",
   "metadata": {},
   "outputs": [],
   "source": [
    "from src.utils.constants import DATA_OUT_PATH\n",
    "\n",
    "path_hogar = DATA_OUT_PATH / \"usu_hogar.csv\" # path al archivo único"
   ]
  },
  {
   "cell_type": "markdown",
   "id": "7569f68b",
   "metadata": {},
   "source": [
    "# Sección A"
   ]
  },
  {
   "cell_type": "markdown",
   "id": "d6f53ea0",
   "metadata": {},
   "source": [
    "#### Genero nuevas columnas"
   ]
  },
  {
   "cell_type": "code",
   "execution_count": 6,
   "id": "7d8e19e9",
   "metadata": {},
   "outputs": [],
   "source": [
    "#LLAMAR UNA A UNA A LAS FUNCIONES QUE AGREGAN NUEVAS COLUMNAS\n",
    "# Recargar modulo\n",
    "import importlib\n",
    "import src.dataset.agregar_columnas as recarga\n",
    "importlib.reload(recarga)\n",
    "\n",
    "from src.dataset.agregar_columnas import generar_columnas_csv_hogar\n",
    "generar_columnas_csv_hogar()"
   ]
  },
  {
   "cell_type": "code",
   "execution_count": 7,
   "id": "6a55f113",
   "metadata": {},
   "outputs": [],
   "source": [
    "from src.utils.constants import DATA_OUT_PATH\n",
    "\n",
    "path_procesado = DATA_OUT_PATH / \"hogar_process.csv\""
   ]
  },
  {
   "cell_type": "markdown",
   "id": "d30a4185",
   "metadata": {},
   "source": [
    "#### Imprimo el encabezado para chequear"
   ]
  },
  {
   "cell_type": "code",
   "execution_count": 8,
   "id": "e99639b8",
   "metadata": {},
   "outputs": [
    {
     "name": "stdout",
     "output_type": "stream",
     "text": [
      "['CODUSU', 'ANO4', 'TRIMESTRE', 'NRO_HOGAR', 'REALIZADA', 'REGION', 'MAS_500', 'AGLOMERADO', 'PONDERA', 'IV1', 'IV1_ESP', 'IV2', 'IV3', 'IV3_ESP', 'IV4', 'IV5', 'IV6', 'IV7', 'IV7_ESP', 'IV8', 'IV9', 'IV10', 'IV11', 'IV12_1', 'IV12_2', 'IV12_3', 'II1', 'II2', 'II3', 'II3_1', 'II4_1', 'II4_2', 'II4_3', 'II5', 'II5_1', 'II6', 'II6_1', 'II7', 'II7_ESP', 'II8', 'II8_ESP', 'II9', 'V1', 'V2', 'V21', 'V22', 'V3', 'V4', 'V5', 'V6', 'V7', 'V8', 'V9', 'V10', 'V11', 'V12', 'V13', 'V14', 'V15', 'V16', 'V17', 'V18', 'V19_A', 'V19_B', 'IX_TOT', 'IX_MEN10', 'IX_MAYEQ10', 'ITF', 'DECIFR', 'IDECIFR', 'RDECIFR', 'GDECIFR', 'PDECIFR', 'ADECIFR', 'IPCF', 'DECCFR', 'IDECCFR', 'RDECCFR', 'GDECCFR', 'PDECCFR', 'ADECCFR', 'PONDIH', 'VII1_1', 'VII1_2', 'VII2_1', 'VII2_2', 'VII2_3', 'VII2_4', 'TIPO_HOGAR', 'MATERIAL_TECHUMBRE', 'DENSIDAD_HOGAR', 'CONDICION_DE_HABITABILIDAD']\n",
      "['TQRMNOPXXHJOLNCDEOJAH00697825', '2020', '4', '1', '1', '44', 'NO', '93', '68', '1', '', '2', '1', '', '4', '1', '1', '1', '', '1', '1', '1', '1', '2', '2', '2', '2', '1', '2', '0', '1', '2', '2', '2', '0', '2', '0', '1', '', '1', '', '1', '1', '2', '2', '2', '2', '2', '2', '2', '2', '1', '2', '2', '2', '2', '2', '2', '1', '1', '2', '2', '2', '2', '2', '0', '2', '115000', '9', '10', '9', '', '10', '9', '57500', '10', '10', '9', '', '10', '9', '142', '1', '0', '2', '0', '0', '0', 'Nuclear', 'Material durable', 'Medio', 'buena']\n"
     ]
    }
   ],
   "source": [
    "import csv\n",
    "\n",
    "with path_procesado.open('r',encoding='utf-8') as hogar_csv:\n",
    "    csv_reader = csv.reader(hogar_csv, delimiter=';')\n",
    "    header,data = next(csv_reader),list(csv_reader)\n",
    "    print(header)\n",
    "    print(data[0])"
   ]
  },
  {
   "cell_type": "markdown",
   "id": "2633a355",
   "metadata": {},
   "source": [
    "# Sección B"
   ]
  },
  {
   "cell_type": "code",
   "execution_count": 9,
   "id": "2aae6ddd",
   "metadata": {},
   "outputs": [
    {
     "name": "stdout",
     "output_type": "stream",
     "text": [
      "-----------------Ejercicio 4B---------------\n",
      "════════════════════════════════════════════════════════════\n",
      "                     TOP 5 AGLOMERADOS                      \n",
      "     Mayor % de hogares con ≥2 universitarios completos     \n",
      "════════════════════════════════════════════════════════════\n",
      "Posición  Aglomerado                              Porcentaje\n",
      "------------------------------------------------------------\n",
      "1         Ciudad Autónoma de Buenos Aires               19.47%\n",
      "════════════════════════════════════════════════════════════\n",
      "2         Gran Mendoza                                 12.33%\n",
      "════════════════════════════════════════════════════════════\n",
      "3         Gran Paraná                                  12.25%\n",
      "════════════════════════════════════════════════════════════\n",
      "4         Gran Salta                                   11.90%\n",
      "════════════════════════════════════════════════════════════\n",
      "5         Corrientes                                   11.05%\n",
      "════════════════════════════════════════════════════════════\n",
      "-----------------Ejercicio 5B---------------\n",
      "De cada aglomerado el porcentaje de viviendas ocupadas por el propietario\n",
      "Gran La Plata: 69.74%\n",
      "Bahía Blanca - Cerri: 64.86%\n",
      "Gran Rosario: 70.15%\n",
      "Gran Santa Fé: 71.64%\n",
      "Gran Paraná: 65.43%\n",
      "Posadas: 72.66%\n",
      "Gran Resistencia: 80.39%\n",
      "Comodoro Rivadavia - Rada Tilly: 66.51%\n",
      "Gran Mendoza: 63.01%\n",
      "Corrientes: 70.27%\n",
      "Gran Córdoba: 56.24%\n",
      "Concordia: 73.5%\n",
      "Formosa: 81.68%\n",
      "Neuquén - Plottier: 67.29%\n",
      "Santiago del Estero - La Banda: 85.31%\n",
      "Jujuy - Palpalá: 75.49%\n",
      "Río Gallegos: 57.04%\n",
      "Gran Catamarca: 81.35%\n",
      "Gran Salta: 67.84%\n",
      "La Rioja: 73.98%\n",
      "Gran San Luis: 69.07%\n",
      "Gran San Juan: 67.13%\n",
      "Gran Tucumán - Tafí Viejo: 71.12%\n",
      "Santa Rosa - Toay: 65.51%\n",
      "Ushuaia - Río Grande: 59.05%\n",
      "Ciudad Autónoma de Buenos Aires: 57.72%\n",
      "Partidos del GBA: 73.68%\n",
      "Mar del Plata: 69.47%\n",
      "Río Cuarto: 58.74%\n",
      "San Nicolás - Villa Constitución: 72.6%\n",
      "Rawson - Trelew: 67.38%\n",
      "Viedma- Carmen de Patagones: 69.31%\n",
      "\n",
      "-----------------Ejercicio 6B----------------\n",
      "El aglomerado con mayor cantidad de viviendas sin baño y más de dos ocupantes es:Partidos del GBA(33) con 384798 viviendas.\n",
      "\n",
      "-----------------Ejercicio 8B---------------\n",
      "Regiones en orden según % de inquilinos\n",
      "Patagonia. (24.83482635702943%)\n",
      "Pampeana. (23.307047582061895%)\n",
      "Cuyo. (20.62587914534175%)\n",
      "Gran Buenos Aires. (18.80077171919743%)\n",
      "Noreste. (15.556774443449745%)\n",
      "Noroeste. (14.196335804779338%)\n",
      "\n",
      "-----------------Ejercicio 11B---------------\n",
      "\n",
      "Trimestre analizado: 4 del año 2020\n",
      "Porcentaje de viviendas con material precario por aglomerado:\n",
      "  - Gran San Juan: 13.01%\n",
      "  - Neuquén - Plottier: 10.53%\n",
      "  - Partidos del GBA: 2.80%\n",
      "  - San Nicolás - Villa Constitución: 2.65%\n",
      "  - Santa Rosa - Toay: 2.57%\n",
      "  - Río Cuarto: 2.18%\n",
      "  - Viedma- Carmen de Patagones: 1.93%\n",
      "  - Santiago del Estero - La Banda: 1.90%\n",
      "  - Gran Catamarca: 1.89%\n",
      "  - Corrientes: 1.70%\n",
      "  - Gran Salta: 1.61%\n",
      "  - Mar del Plata: 1.35%\n",
      "  - Gran Mendoza: 1.02%\n",
      "  - Concordia: 0.91%\n",
      "  - La Rioja: 0.76%\n",
      "  - Rawson - Trelew: 0.38%\n",
      "  - Gran Tucumán - Tafí Viejo: 0.37%\n",
      "  - Formosa: 0.26%\n",
      "  - Río Gallegos: 0.00%\n",
      "  - Ushuaia - Río Grande: 0.00%\n",
      "  - Gran Córdoba: 0.00%\n",
      "  - Ciudad Autónoma de Buenos Aires: 0.00%\n",
      "  - Gran San Luis: 0.00%\n",
      "  - Jujuy - Palpalá: 0.00%\n",
      "\n",
      "El aglomerado con mayor porcentaje es Gran San Juan (13.01%)\n",
      "El aglomerado con menor porcentaje es Río Gallegos (0.00%)\n",
      "\n",
      "-----------------Ejercicio 12B---------------\n",
      "Porcentaje de jubilados con condicion de habitabilidad insuficiente según región (año: 2024, trimestre: 3)\n",
      "Gran La Plata: sin datos\n",
      "Bahía Blanca - Cerri: sin datos\n",
      "Gran Rosario: sin datos\n",
      "Gran Santa Fé: sin datos\n",
      "Gran Paraná: sin datos\n",
      "Posadas: sin datos\n",
      "Gran Resistencia: sin datos\n",
      "Comodoro Rivadavia - Rada Tilly: sin datos\n",
      "Gran Mendoza: 0.0%\n",
      "Corrientes: 1.4375754811355472%\n",
      "Gran Córdoba: 2.4808724920949796%\n",
      "Concordia: 0.0%\n",
      "Formosa: 0.0%\n",
      "Neuquén - Plottier: 0.0%\n",
      "Santiago del Estero - La Banda: 0.0%\n",
      "Jujuy - Palpalá: 0.0%\n",
      "Río Gallegos: 0.0%\n",
      "Gran Catamarca: 0.0%\n",
      "Gran Salta: 0.0%\n",
      "La Rioja: 0.0%\n",
      "Gran San Luis: 0.0%\n",
      "Gran San Juan: 0.0%\n",
      "Gran Tucumán - Tafí Viejo: 0.0%\n",
      "Santa Rosa - Toay: 0.0%\n",
      "Ushuaia - Río Grande: 0.0%\n",
      "Ciudad Autónoma de Buenos Aires: 0.0%\n",
      "Partidos del GBA: 0.5256314059244228%\n",
      "Mar del Plata: 0.0%\n",
      "Río Cuarto: 0.0%\n",
      "San Nicolás - Villa Constitución: 0.0%\n",
      "Rawson - Trelew: 0.0%\n",
      "Viedma- Carmen de Patagones: 0.0%\n",
      "\n",
      "-----------------Ejercicio 13B---------------\n",
      "\n",
      "Año 2023 - Trimestre 4:\n",
      "Cantidad de personas con nivel universitario o superior en viviendas  con condición insuficiente: 18128\n",
      "\n"
     ]
    }
   ],
   "source": [
    "# Recargar modulo\n",
    "import importlib\n",
    "import src.dataset.consultar_dataset as recarga\n",
    "importlib.reload(recarga)\n",
    "\n",
    "from src.utils.constants import DATA_OUT_PATH\n",
    "import src.dataset.consultar_dataset as consultar\n",
    "\n",
    "path_archivo_hogar = DATA_OUT_PATH / \"hogar_process.csv\"\n",
    "path_archivo_individual = DATA_OUT_PATH / \"individual_process.csv\"\n",
    "\n",
    "print(\"-----------------Ejercicio 4B---------------\")\n",
    "consultar.imprimir_ranking_ej4()\n",
    "\n",
    "\n",
    "print(\"-----------------Ejercicio 5B---------------\")\n",
    "\n",
    "consultar.informar_aglomerados_porcentajes_5B(path_archivo_hogar)\n",
    "print()\n",
    "\n",
    "print(\"-----------------Ejercicio 6B----------------\")\n",
    "consultar.informar_aglomerado_punto6(path_archivo_hogar)\n",
    "print()\n",
    "\n",
    "print(\"-----------------Ejercicio 8B---------------\")\n",
    "consultar.regiones_segun_porcentaje_inquilinos(path_archivo_hogar)\n",
    "print()\n",
    "\n",
    "print(\"-----------------Ejercicio 11B---------------\")\n",
    "consultar.informar_aglomerados_punto11(path_archivo_hogar)\n",
    "print()\n",
    "\n",
    "print(\"-----------------Ejercicio 12B---------------\")\n",
    "consultar.jubilados_condicion_habitabilidad_insuficiente(path_archivo_hogar, path_archivo_individual)\n",
    "print()\n",
    "\n",
    "print(\"-----------------Ejercicio 13B---------------\")\n",
    "consultar.universitarios_en_viviendas_insuficientes(path_archivo_hogar, path_archivo_individual)\n",
    "print()"
   ]
  }
 ],
 "metadata": {
  "kernelspec": {
   "display_name": "Python 3",
   "language": "python",
   "name": "python3"
  },
  "language_info": {
   "codemirror_mode": {
    "name": "ipython",
    "version": 3
   },
   "file_extension": ".py",
   "mimetype": "text/x-python",
   "name": "python",
   "nbconvert_exporter": "python",
   "pygments_lexer": "ipython3",
   "version": "3.12.9"
  }
 },
 "nbformat": 4,
 "nbformat_minor": 5
}
